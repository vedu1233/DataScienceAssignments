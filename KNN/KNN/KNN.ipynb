{
 "cells": [
  {
   "cell_type": "markdown",
   "id": "4078ff35-2f87-431e-86ae-b020134d5da5",
   "metadata": {},
   "source": [
    "# Import Dependencies for Analysis and Data Preprocessing"
   ]
  },
  {
   "cell_type": "code",
   "execution_count": 1,
   "id": "f2431ca3-64e1-4b50-982f-b92eba6e5358",
   "metadata": {},
   "outputs": [],
   "source": [
    "import pandas as pd \n",
    "import numpy as np \n",
    "import matplotlib.pyplot as plt \n",
    "import seaborn as sns\n",
    "from sklearn.preprocessing import StandardScaler\n",
    "from sklearn.metrics import classification_report\n",
    "from sklearn.metrics import confusion_matrix\n",
    "from imblearn.over_sampling import SMOTE\n",
    "from sklearn.metrics import accuracy_score, precision_score, recall_score, f1_score, roc_auc_score\n",
    "from sklearn.neighbors import KNeighborsClassifier\n",
    "from sklearn.model_selection import train_test_split\n",
    "from sklearn.model_selection import GridSearchCV\n",
    "import warnings"
   ]
  },
  {
   "cell_type": "code",
   "execution_count": 2,
   "id": "36c7b2e1-53c3-40dd-8985-7054f1a0289f",
   "metadata": {},
   "outputs": [],
   "source": [
    "# Suppress UndefinedMetricWarning\n",
    "warnings.filterwarnings(\"ignore\")"
   ]
  },
  {
   "cell_type": "markdown",
   "id": "d262a9c0-65cc-4867-b2c6-93a633c8ac99",
   "metadata": {},
   "source": [
    "# Function to Evaluate Model Performance with Classification Report and Confusion Matrix"
   ]
  },
  {
   "cell_type": "code",
   "execution_count": 3,
   "id": "f5c2e669-0b03-40a1-9761-a292d534c455",
   "metadata": {},
   "outputs": [],
   "source": [
    "def evaluate_model(model, X_train, X_test, y_train, y_test):\n",
    "    # Fit the model\n",
    "    model.fit(X_train, y_train)\n",
    "    \n",
    "    # Make predictions\n",
    "    y_pred = model.predict(X_test)\n",
    "    \n",
    "    # Evaluate the model\n",
    "    print(\"Classification Report:\")\n",
    "    print(classification_report(y_test, y_pred))\n",
    "    \n",
    "    print(\"Confusion Matrix:\")\n",
    "    print(confusion_matrix(y_test, y_pred))\n",
    "    \n",
    "    return model\n"
   ]
  },
  {
   "cell_type": "markdown",
   "id": "5665d448-bd1f-49e0-87bf-69b8a130bff1",
   "metadata": {},
   "source": [
    "# Confusion Matrix Visualization"
   ]
  },
  {
   "cell_type": "code",
   "execution_count": 4,
   "id": "bd365185-0404-4d5b-b170-62dc51450efe",
   "metadata": {},
   "outputs": [],
   "source": [
    "def plot_confusion_matrix(cm, class_labels=[1,2,3,4,5,6,7,8], figsize=(10, 8), cmap='Blues',title='Confusion Matrix'):\n",
    "\n",
    "    plt.figure(figsize=figsize)\n",
    "    sns.heatmap(cm, annot=True, fmt='d', cmap=cmap, \n",
    "                xticklabels=class_labels, \n",
    "                yticklabels=class_labels)\n",
    "    plt.xlabel('Predicted Labels')\n",
    "    plt.ylabel('True Labels')\n",
    "    plt.title(title)\n",
    "    plt.show()"
   ]
  },
  {
   "cell_type": "markdown",
   "id": "1e730b5e-990a-4f8c-a9d9-d7d179a543ef",
   "metadata": {},
   "source": [
    "# Load and Preview Titanic Training Dataset"
   ]
  },
  {
   "cell_type": "code",
   "execution_count": 5,
   "id": "679be19d-ac16-443e-9b3a-2a35e24ad6d9",
   "metadata": {},
   "outputs": [
    {
     "data": {
      "text/html": [
       "<div>\n",
       "<style scoped>\n",
       "    .dataframe tbody tr th:only-of-type {\n",
       "        vertical-align: middle;\n",
       "    }\n",
       "\n",
       "    .dataframe tbody tr th {\n",
       "        vertical-align: top;\n",
       "    }\n",
       "\n",
       "    .dataframe thead th {\n",
       "        text-align: right;\n",
       "    }\n",
       "</style>\n",
       "<table border=\"1\" class=\"dataframe\">\n",
       "  <thead>\n",
       "    <tr style=\"text-align: right;\">\n",
       "      <th></th>\n",
       "      <th>animal name</th>\n",
       "      <th>hair</th>\n",
       "      <th>feathers</th>\n",
       "      <th>eggs</th>\n",
       "      <th>milk</th>\n",
       "      <th>airborne</th>\n",
       "      <th>aquatic</th>\n",
       "      <th>predator</th>\n",
       "      <th>toothed</th>\n",
       "      <th>backbone</th>\n",
       "      <th>breathes</th>\n",
       "      <th>venomous</th>\n",
       "      <th>fins</th>\n",
       "      <th>legs</th>\n",
       "      <th>tail</th>\n",
       "      <th>domestic</th>\n",
       "      <th>catsize</th>\n",
       "      <th>type</th>\n",
       "    </tr>\n",
       "  </thead>\n",
       "  <tbody>\n",
       "    <tr>\n",
       "      <th>0</th>\n",
       "      <td>aardvark</td>\n",
       "      <td>1</td>\n",
       "      <td>0</td>\n",
       "      <td>0</td>\n",
       "      <td>1</td>\n",
       "      <td>0</td>\n",
       "      <td>0</td>\n",
       "      <td>1</td>\n",
       "      <td>1</td>\n",
       "      <td>1</td>\n",
       "      <td>1</td>\n",
       "      <td>0</td>\n",
       "      <td>0</td>\n",
       "      <td>4</td>\n",
       "      <td>0</td>\n",
       "      <td>0</td>\n",
       "      <td>1</td>\n",
       "      <td>1</td>\n",
       "    </tr>\n",
       "    <tr>\n",
       "      <th>1</th>\n",
       "      <td>antelope</td>\n",
       "      <td>1</td>\n",
       "      <td>0</td>\n",
       "      <td>0</td>\n",
       "      <td>1</td>\n",
       "      <td>0</td>\n",
       "      <td>0</td>\n",
       "      <td>0</td>\n",
       "      <td>1</td>\n",
       "      <td>1</td>\n",
       "      <td>1</td>\n",
       "      <td>0</td>\n",
       "      <td>0</td>\n",
       "      <td>4</td>\n",
       "      <td>1</td>\n",
       "      <td>0</td>\n",
       "      <td>1</td>\n",
       "      <td>1</td>\n",
       "    </tr>\n",
       "    <tr>\n",
       "      <th>2</th>\n",
       "      <td>bass</td>\n",
       "      <td>0</td>\n",
       "      <td>0</td>\n",
       "      <td>1</td>\n",
       "      <td>0</td>\n",
       "      <td>0</td>\n",
       "      <td>1</td>\n",
       "      <td>1</td>\n",
       "      <td>1</td>\n",
       "      <td>1</td>\n",
       "      <td>0</td>\n",
       "      <td>0</td>\n",
       "      <td>1</td>\n",
       "      <td>0</td>\n",
       "      <td>1</td>\n",
       "      <td>0</td>\n",
       "      <td>0</td>\n",
       "      <td>4</td>\n",
       "    </tr>\n",
       "    <tr>\n",
       "      <th>3</th>\n",
       "      <td>bear</td>\n",
       "      <td>1</td>\n",
       "      <td>0</td>\n",
       "      <td>0</td>\n",
       "      <td>1</td>\n",
       "      <td>0</td>\n",
       "      <td>0</td>\n",
       "      <td>1</td>\n",
       "      <td>1</td>\n",
       "      <td>1</td>\n",
       "      <td>1</td>\n",
       "      <td>0</td>\n",
       "      <td>0</td>\n",
       "      <td>4</td>\n",
       "      <td>0</td>\n",
       "      <td>0</td>\n",
       "      <td>1</td>\n",
       "      <td>1</td>\n",
       "    </tr>\n",
       "    <tr>\n",
       "      <th>4</th>\n",
       "      <td>boar</td>\n",
       "      <td>1</td>\n",
       "      <td>0</td>\n",
       "      <td>0</td>\n",
       "      <td>1</td>\n",
       "      <td>0</td>\n",
       "      <td>0</td>\n",
       "      <td>1</td>\n",
       "      <td>1</td>\n",
       "      <td>1</td>\n",
       "      <td>1</td>\n",
       "      <td>0</td>\n",
       "      <td>0</td>\n",
       "      <td>4</td>\n",
       "      <td>1</td>\n",
       "      <td>0</td>\n",
       "      <td>1</td>\n",
       "      <td>1</td>\n",
       "    </tr>\n",
       "  </tbody>\n",
       "</table>\n",
       "</div>"
      ],
      "text/plain": [
       "  animal name  hair  feathers  eggs  milk  airborne  aquatic  predator  \\\n",
       "0    aardvark     1         0     0     1         0        0         1   \n",
       "1    antelope     1         0     0     1         0        0         0   \n",
       "2        bass     0         0     1     0         0        1         1   \n",
       "3        bear     1         0     0     1         0        0         1   \n",
       "4        boar     1         0     0     1         0        0         1   \n",
       "\n",
       "   toothed  backbone  breathes  venomous  fins  legs  tail  domestic  catsize  \\\n",
       "0        1         1         1         0     0     4     0         0        1   \n",
       "1        1         1         1         0     0     4     1         0        1   \n",
       "2        1         1         0         0     1     0     1         0        0   \n",
       "3        1         1         1         0     0     4     0         0        1   \n",
       "4        1         1         1         0     0     4     1         0        1   \n",
       "\n",
       "   type  \n",
       "0     1  \n",
       "1     1  \n",
       "2     4  \n",
       "3     1  \n",
       "4     1  "
      ]
     },
     "execution_count": 5,
     "metadata": {},
     "output_type": "execute_result"
    }
   ],
   "source": [
    "data = pd.read_csv('Zoo.csv')\n",
    "data.head()"
   ]
  },
  {
   "cell_type": "markdown",
   "id": "0bda1e4e-2009-4671-bd9b-239e16ba7e20",
   "metadata": {},
   "source": [
    "# Preprocessing"
   ]
  },
  {
   "cell_type": "code",
   "execution_count": 6,
   "id": "baee0170-7bcb-4f4e-9047-44de5302a011",
   "metadata": {},
   "outputs": [
    {
     "name": "stdout",
     "output_type": "stream",
     "text": [
      "<class 'pandas.core.frame.DataFrame'>\n",
      "RangeIndex: 101 entries, 0 to 100\n",
      "Data columns (total 18 columns):\n",
      " #   Column       Non-Null Count  Dtype \n",
      "---  ------       --------------  ----- \n",
      " 0   animal name  101 non-null    object\n",
      " 1   hair         101 non-null    int64 \n",
      " 2   feathers     101 non-null    int64 \n",
      " 3   eggs         101 non-null    int64 \n",
      " 4   milk         101 non-null    int64 \n",
      " 5   airborne     101 non-null    int64 \n",
      " 6   aquatic      101 non-null    int64 \n",
      " 7   predator     101 non-null    int64 \n",
      " 8   toothed      101 non-null    int64 \n",
      " 9   backbone     101 non-null    int64 \n",
      " 10  breathes     101 non-null    int64 \n",
      " 11  venomous     101 non-null    int64 \n",
      " 12  fins         101 non-null    int64 \n",
      " 13  legs         101 non-null    int64 \n",
      " 14  tail         101 non-null    int64 \n",
      " 15  domestic     101 non-null    int64 \n",
      " 16  catsize      101 non-null    int64 \n",
      " 17  type         101 non-null    int64 \n",
      "dtypes: int64(17), object(1)\n",
      "memory usage: 14.3+ KB\n"
     ]
    }
   ],
   "source": [
    "data.info()"
   ]
  },
  {
   "cell_type": "code",
   "execution_count": 7,
   "id": "bd8bed94-7a7d-42a0-bb0d-53ed976631ca",
   "metadata": {},
   "outputs": [
    {
     "data": {
      "text/plain": [
       "type\n",
       "1    41\n",
       "2    20\n",
       "4    13\n",
       "7    10\n",
       "6     8\n",
       "3     5\n",
       "5     4\n",
       "Name: count, dtype: int64"
      ]
     },
     "execution_count": 7,
     "metadata": {},
     "output_type": "execute_result"
    }
   ],
   "source": [
    "data['type'].value_counts()"
   ]
  },
  {
   "cell_type": "code",
   "execution_count": 8,
   "id": "a0852d89-a1e2-4afa-86d4-5dd0bf6950d0",
   "metadata": {
    "scrolled": true
   },
   "outputs": [
    {
     "data": {
      "text/plain": [
       "['aardvark',\n",
       " 'antelope',\n",
       " 'bass',\n",
       " 'bear',\n",
       " 'boar',\n",
       " 'buffalo',\n",
       " 'calf',\n",
       " 'carp',\n",
       " 'catfish',\n",
       " 'cavy',\n",
       " 'cheetah',\n",
       " 'chicken',\n",
       " 'chub',\n",
       " 'clam',\n",
       " 'crab',\n",
       " 'crayfish',\n",
       " 'crow',\n",
       " 'deer',\n",
       " 'dogfish',\n",
       " 'dolphin',\n",
       " 'dove',\n",
       " 'duck',\n",
       " 'elephant',\n",
       " 'flamingo',\n",
       " 'flea',\n",
       " 'frog',\n",
       " 'frog',\n",
       " 'fruitbat',\n",
       " 'giraffe',\n",
       " 'girl',\n",
       " 'gnat',\n",
       " 'goat',\n",
       " 'gorilla',\n",
       " 'gull',\n",
       " 'haddock',\n",
       " 'hamster',\n",
       " 'hare',\n",
       " 'hawk',\n",
       " 'herring',\n",
       " 'honeybee',\n",
       " 'housefly',\n",
       " 'kiwi',\n",
       " 'ladybird',\n",
       " 'lark',\n",
       " 'leopard',\n",
       " 'lion',\n",
       " 'lobster',\n",
       " 'lynx',\n",
       " 'mink',\n",
       " 'mole',\n",
       " 'mongoose',\n",
       " 'moth',\n",
       " 'newt',\n",
       " 'octopus',\n",
       " 'opossum',\n",
       " 'oryx',\n",
       " 'ostrich',\n",
       " 'parakeet',\n",
       " 'penguin',\n",
       " 'pheasant',\n",
       " 'pike',\n",
       " 'piranha',\n",
       " 'pitviper',\n",
       " 'platypus',\n",
       " 'polecat',\n",
       " 'pony',\n",
       " 'porpoise',\n",
       " 'puma',\n",
       " 'pussycat',\n",
       " 'raccoon',\n",
       " 'reindeer',\n",
       " 'rhea',\n",
       " 'scorpion',\n",
       " 'seahorse',\n",
       " 'seal',\n",
       " 'sealion',\n",
       " 'seasnake',\n",
       " 'seawasp',\n",
       " 'skimmer',\n",
       " 'skua',\n",
       " 'slowworm',\n",
       " 'slug',\n",
       " 'sole',\n",
       " 'sparrow',\n",
       " 'squirrel',\n",
       " 'starfish',\n",
       " 'stingray',\n",
       " 'swan',\n",
       " 'termite',\n",
       " 'toad',\n",
       " 'tortoise',\n",
       " 'tuatara',\n",
       " 'tuna',\n",
       " 'vampire',\n",
       " 'vole',\n",
       " 'vulture',\n",
       " 'wallaby',\n",
       " 'wasp',\n",
       " 'wolf',\n",
       " 'worm',\n",
       " 'wren']"
      ]
     },
     "execution_count": 8,
     "metadata": {},
     "output_type": "execute_result"
    }
   ],
   "source": [
    "l = []\n",
    "for i in data['animal name']:\n",
    "    l.append(i)\n",
    "l"
   ]
  },
  {
   "cell_type": "markdown",
   "id": "cec27f0e-a2cd-402e-ad76-2a9211698ea6",
   "metadata": {},
   "source": [
    "1. **Girl** - refers to a human child, not an animal.\n",
    "2. **Vampire** - refers to either the mythical creature, not an animal.\n",
    "\n",
    " I remove \"girl\" and \"Vampire\" from the list. "
   ]
  },
  {
   "cell_type": "code",
   "execution_count": 9,
   "id": "d7c21859-0f58-4982-9e62-d043d0979619",
   "metadata": {},
   "outputs": [],
   "source": [
    "data.drop(index=[data[data['animal name'] == 'girl'].index[0],data[data['animal name'] == 'vampire'].index[0]],axis=0,inplace=True)"
   ]
  },
  {
   "cell_type": "code",
   "execution_count": null,
   "id": "e9de2bd9-bc18-436d-8983-70db272e0389",
   "metadata": {},
   "outputs": [],
   "source": []
  },
  {
   "cell_type": "code",
   "execution_count": 10,
   "id": "b2569ad5-2183-4b28-8959-494b262ab637",
   "metadata": {},
   "outputs": [
    {
     "data": {
      "text/plain": [
       "0"
      ]
     },
     "execution_count": 10,
     "metadata": {},
     "output_type": "execute_result"
    }
   ],
   "source": [
    "data.duplicated().sum()"
   ]
  },
  {
   "cell_type": "code",
   "execution_count": 11,
   "id": "0147d5a7-390f-42f9-98db-2a98ee6d3ad4",
   "metadata": {},
   "outputs": [],
   "source": [
    "data.drop(columns='animal name',inplace=True)"
   ]
  },
  {
   "cell_type": "code",
   "execution_count": 12,
   "id": "9d2f9885-3985-4942-91c4-87c61b01a4ad",
   "metadata": {},
   "outputs": [
    {
     "data": {
      "text/html": [
       "<div>\n",
       "<style scoped>\n",
       "    .dataframe tbody tr th:only-of-type {\n",
       "        vertical-align: middle;\n",
       "    }\n",
       "\n",
       "    .dataframe tbody tr th {\n",
       "        vertical-align: top;\n",
       "    }\n",
       "\n",
       "    .dataframe thead th {\n",
       "        text-align: right;\n",
       "    }\n",
       "</style>\n",
       "<table border=\"1\" class=\"dataframe\">\n",
       "  <thead>\n",
       "    <tr style=\"text-align: right;\">\n",
       "      <th></th>\n",
       "      <th>hair</th>\n",
       "      <th>feathers</th>\n",
       "      <th>eggs</th>\n",
       "      <th>milk</th>\n",
       "      <th>airborne</th>\n",
       "      <th>aquatic</th>\n",
       "      <th>predator</th>\n",
       "      <th>toothed</th>\n",
       "      <th>backbone</th>\n",
       "      <th>breathes</th>\n",
       "      <th>venomous</th>\n",
       "      <th>fins</th>\n",
       "      <th>legs</th>\n",
       "      <th>tail</th>\n",
       "      <th>domestic</th>\n",
       "      <th>catsize</th>\n",
       "      <th>type</th>\n",
       "    </tr>\n",
       "  </thead>\n",
       "  <tbody>\n",
       "    <tr>\n",
       "      <th>0</th>\n",
       "      <td>1</td>\n",
       "      <td>0</td>\n",
       "      <td>0</td>\n",
       "      <td>1</td>\n",
       "      <td>0</td>\n",
       "      <td>0</td>\n",
       "      <td>1</td>\n",
       "      <td>1</td>\n",
       "      <td>1</td>\n",
       "      <td>1</td>\n",
       "      <td>0</td>\n",
       "      <td>0</td>\n",
       "      <td>4</td>\n",
       "      <td>0</td>\n",
       "      <td>0</td>\n",
       "      <td>1</td>\n",
       "      <td>1</td>\n",
       "    </tr>\n",
       "    <tr>\n",
       "      <th>1</th>\n",
       "      <td>1</td>\n",
       "      <td>0</td>\n",
       "      <td>0</td>\n",
       "      <td>1</td>\n",
       "      <td>0</td>\n",
       "      <td>0</td>\n",
       "      <td>0</td>\n",
       "      <td>1</td>\n",
       "      <td>1</td>\n",
       "      <td>1</td>\n",
       "      <td>0</td>\n",
       "      <td>0</td>\n",
       "      <td>4</td>\n",
       "      <td>1</td>\n",
       "      <td>0</td>\n",
       "      <td>1</td>\n",
       "      <td>1</td>\n",
       "    </tr>\n",
       "    <tr>\n",
       "      <th>2</th>\n",
       "      <td>0</td>\n",
       "      <td>0</td>\n",
       "      <td>1</td>\n",
       "      <td>0</td>\n",
       "      <td>0</td>\n",
       "      <td>1</td>\n",
       "      <td>1</td>\n",
       "      <td>1</td>\n",
       "      <td>1</td>\n",
       "      <td>0</td>\n",
       "      <td>0</td>\n",
       "      <td>1</td>\n",
       "      <td>0</td>\n",
       "      <td>1</td>\n",
       "      <td>0</td>\n",
       "      <td>0</td>\n",
       "      <td>4</td>\n",
       "    </tr>\n",
       "    <tr>\n",
       "      <th>3</th>\n",
       "      <td>1</td>\n",
       "      <td>0</td>\n",
       "      <td>0</td>\n",
       "      <td>1</td>\n",
       "      <td>0</td>\n",
       "      <td>0</td>\n",
       "      <td>1</td>\n",
       "      <td>1</td>\n",
       "      <td>1</td>\n",
       "      <td>1</td>\n",
       "      <td>0</td>\n",
       "      <td>0</td>\n",
       "      <td>4</td>\n",
       "      <td>0</td>\n",
       "      <td>0</td>\n",
       "      <td>1</td>\n",
       "      <td>1</td>\n",
       "    </tr>\n",
       "    <tr>\n",
       "      <th>4</th>\n",
       "      <td>1</td>\n",
       "      <td>0</td>\n",
       "      <td>0</td>\n",
       "      <td>1</td>\n",
       "      <td>0</td>\n",
       "      <td>0</td>\n",
       "      <td>1</td>\n",
       "      <td>1</td>\n",
       "      <td>1</td>\n",
       "      <td>1</td>\n",
       "      <td>0</td>\n",
       "      <td>0</td>\n",
       "      <td>4</td>\n",
       "      <td>1</td>\n",
       "      <td>0</td>\n",
       "      <td>1</td>\n",
       "      <td>1</td>\n",
       "    </tr>\n",
       "  </tbody>\n",
       "</table>\n",
       "</div>"
      ],
      "text/plain": [
       "   hair  feathers  eggs  milk  airborne  aquatic  predator  toothed  backbone  \\\n",
       "0     1         0     0     1         0        0         1        1         1   \n",
       "1     1         0     0     1         0        0         0        1         1   \n",
       "2     0         0     1     0         0        1         1        1         1   \n",
       "3     1         0     0     1         0        0         1        1         1   \n",
       "4     1         0     0     1         0        0         1        1         1   \n",
       "\n",
       "   breathes  venomous  fins  legs  tail  domestic  catsize  type  \n",
       "0         1         0     0     4     0         0        1     1  \n",
       "1         1         0     0     4     1         0        1     1  \n",
       "2         0         0     1     0     1         0        0     4  \n",
       "3         1         0     0     4     0         0        1     1  \n",
       "4         1         0     0     4     1         0        1     1  "
      ]
     },
     "execution_count": 12,
     "metadata": {},
     "output_type": "execute_result"
    }
   ],
   "source": [
    "data.head()"
   ]
  },
  {
   "cell_type": "markdown",
   "id": "f982ca9d-2b3e-410c-8edb-88f05a190da0",
   "metadata": {},
   "source": [
    "# Model Evaluation"
   ]
  },
  {
   "cell_type": "code",
   "execution_count": 13,
   "id": "46b02850-f0e7-4e42-812b-5658bac49e25",
   "metadata": {},
   "outputs": [],
   "source": [
    "X = data.drop(columns='type')\n",
    "y = data['type']"
   ]
  },
  {
   "cell_type": "code",
   "execution_count": 14,
   "id": "761e3ed3-8c44-45af-9d4c-dbd096a870f3",
   "metadata": {},
   "outputs": [
    {
     "name": "stdout",
     "output_type": "stream",
     "text": [
      "Classification Report:\n",
      "              precision    recall  f1-score   support\n",
      "\n",
      "           1       1.00      1.00      1.00        10\n",
      "           2       1.00      1.00      1.00         2\n",
      "           3       0.00      0.00      0.00         0\n",
      "           4       0.67      1.00      0.80         2\n",
      "           5       1.00      0.50      0.67         2\n",
      "           6       1.00      1.00      1.00         1\n",
      "           7       1.00      0.33      0.50         3\n",
      "\n",
      "    accuracy                           0.85        20\n",
      "   macro avg       0.81      0.69      0.71        20\n",
      "weighted avg       0.97      0.85      0.87        20\n",
      "\n",
      "Confusion Matrix:\n",
      "[[10  0  0  0  0  0  0]\n",
      " [ 0  2  0  0  0  0  0]\n",
      " [ 0  0  0  0  0  0  0]\n",
      " [ 0  0  0  2  0  0  0]\n",
      " [ 0  0  1  0  1  0  0]\n",
      " [ 0  0  0  0  0  1  0]\n",
      " [ 0  0  1  1  0  0  1]]\n"
     ]
    }
   ],
   "source": [
    "# Split the data into training and test sets\n",
    "X_train, X_test, y_train, y_test = train_test_split(X, y, test_size=0.2, random_state=42)\n",
    "# Standardize features\n",
    "scaler = StandardScaler()\n",
    "X_train_scaled = scaler.fit_transform(X_train)\n",
    "X_test_scaled = scaler.transform(X_test)\n",
    "# Create KNN classifier\n",
    "knn_model = KNeighborsClassifier(n_neighbors=5)\n",
    "\n",
    "# Evaluate the model using the defined function\n",
    "model = evaluate_model(knn_model, X_train, X_test, y_train, y_test)"
   ]
  },
  {
   "cell_type": "markdown",
   "id": "f4c8d622-c19b-4d71-9f32-bd3d6dcef8a4",
   "metadata": {},
   "source": [
    "\n",
    "- **Accuracy:** 85%\n",
    "- **Precision, Recall, and F1-Score:** \n",
    "  - **Class 1:** Perfect performance with 1.00 in all metrics.\n",
    "  - **Class 2:** Perfect performance with 1.00 in all metrics.\n",
    "  - **Class 3:** No predictions or true samples (precision, recall, f1-score = 0.00).\n",
    "  - **Class 4:** High recall (1.00) with precision of 0.67 and an f1-score of 0.80.\n",
    "  - **Class 5:** Precision of 1.00 but lower recall (0.50), f1-score of 0.67.\n",
    "  - **Class 6:** Perfect performance with 1.00 in all metrics.\n",
    "  - **Class 7:** High precision (1.00) but lower recall (0.33), f1-score of 0.50.\n",
    "\n",
    "- **Macro Average:** \n",
    "  - Precision: 0.81\n",
    "  - Recall: 0.69\n",
    "  - F1-Score: 0.71\n",
    "\n",
    "- **Weighted Average:** \n",
    "  - Precision: 0.97\n",
    "  - Recall: 0.85\n",
    "  - F1-Score: 0.87\n",
    "\n",
    "**Confusion Matrix Overview:**\n",
    "- **True Positives:** Predominantly correct predictions for classes 1, 2, and 6.\n",
    "- **False Negatives:** Some misclassification for classes 5 and 7.\n",
    "- **Class 3:** No samples predicted or true, indicating potential issues with class imbalance or model training for this class.\n",
    "\n",
    "---"
   ]
  },
  {
   "cell_type": "code",
   "execution_count": 15,
   "id": "7e3e3c7b-d73e-4a34-ab5b-cdf0d25875f2",
   "metadata": {},
   "outputs": [
    {
     "data": {
      "image/png": "[encoded data removed]",
      "text/plain": [
       "<Figure size 1200x400 with 2 Axes>"
      ]
     },
     "metadata": {},
     "output_type": "display_data"
    }
   ],
   "source": [
    "y_pred = model.predict(X_test)\n",
    "cm = confusion_matrix(y_test,y_pred)\n",
    "plot_confusion_matrix(cm, class_labels=[1,2,3,4,5,6,7], figsize=(12, 4), cmap='Blues',title='Model without scalling')"
   ]
  },
  {
   "cell_type": "code",
   "execution_count": 16,
   "id": "c9c8e5cb-54dd-44dd-a156-0989cf965e17",
   "metadata": {},
   "outputs": [
    {
     "name": "stdout",
     "output_type": "stream",
     "text": [
      "Classification Report:\n",
      "              precision    recall  f1-score   support\n",
      "\n",
      "           1       1.00      1.00      1.00        10\n",
      "           2       1.00      1.00      1.00         2\n",
      "           3       0.00      0.00      0.00         0\n",
      "           4       1.00      1.00      1.00         2\n",
      "           5       1.00      0.50      0.67         2\n",
      "           6       0.50      1.00      0.67         1\n",
      "           7       1.00      0.67      0.80         3\n",
      "\n",
      "    accuracy                           0.90        20\n",
      "   macro avg       0.79      0.74      0.73        20\n",
      "weighted avg       0.97      0.90      0.92        20\n",
      "\n",
      "Confusion Matrix:\n",
      "[[10  0  0  0  0  0  0]\n",
      " [ 0  2  0  0  0  0  0]\n",
      " [ 0  0  0  0  0  0  0]\n",
      " [ 0  0  0  2  0  0  0]\n",
      " [ 0  0  1  0  1  0  0]\n",
      " [ 0  0  0  0  0  1  0]\n",
      " [ 0  0  0  0  0  1  2]]\n"
     ]
    }
   ],
   "source": [
    "# Split the data into training and test sets\n",
    "X_train, X_test, y_train, y_test = train_test_split(X, y, test_size=0.2, random_state=42)\n",
    "# Standardize features\n",
    "scaler = StandardScaler()\n",
    "X_train_scaled = scaler.fit_transform(X_train)\n",
    "X_test_scaled = scaler.transform(X_test)\n",
    "# Create KNN classifier\n",
    "knn_model = KNeighborsClassifier(n_neighbors=5)\n",
    "\n",
    "# Evaluate the model using the defined function\n",
    "model = evaluate_model(knn_model, X_train_scaled, X_test_scaled, y_train, y_test)"
   ]
  },
  {
   "cell_type": "markdown",
   "id": "20ac504a-1614-4ed1-a0e8-3cffaec88f9a",
   "metadata": {},
   "source": [
    "t:**\r\n",
    "- **Accuracy**: 90%\r\n",
    "- **Class-wise Precision, Recall, and F1-Score**:\r\n",
    "  - **Class 1**: Perfect performance with precision, recall, and F1-score of 1.00.\r\n",
    "  - **Class 2**: Also achieves perfect scores (1.00) in all metrics.\r\n",
    "  - **Class 3**: No predictions or true positives, leading to zero scores.\r\n",
    "  - **Class 4**: Perfect performance with 1.00 in all metrics.\r\n",
    "  - **Class 5**: Lower recall (0.50) with an F1-score of 0.67.\r\n",
    "  - **Class 6**: Lower precision (0.50) but perfect recall (1.00), resulting in an F1-score of 0.67.\r\n",
    "  - **Class 7**: Precision of 1.00 and recall of 0.67, with an F1-score of 0.80.\r\n",
    "\r\n",
    "- **Macro Average**: Balanced performance with an F1-score of 0.73, reflecting variability across classes.\r\n",
    "- **Weighted Average**: Shows high overall performance with an F1-score of 0.92, weighted by class support.\r\n",
    "\r\n",
    "**Confusion Matrix:**\r\n",
    "- **Diagonal Elements**: Show the correct predictions for each class, with a few misclassifications.\r\n",
    "- **Class 3**: No instances were correctly predicted, indicating issues with this class.\r\n",
    "- **Misclassifications**: Some overlap between classes, such as Class 5 being confused with Class 3, and Class 6 with Class 7.\r\n",
    "\r\n",
    "Overall, the model performs well with high accuracy and strong perf.ror Class 3 and Class 5."
   ]
  },
  {
   "cell_type": "code",
   "execution_count": 17,
   "id": "a69567f6-dd93-4869-b25c-9d13de1f5bb3",
   "metadata": {},
   "outputs": [
    {
     "data": {
      "image/png": "[encoded data removed]",
      "text/plain": [
       "<Figure size 1200x400 with 2 Axes>"
      ]
     },
     "metadata": {},
     "output_type": "display_data"
    }
   ],
   "source": [
    "y_pred = model.predict(X_test_scaled)\n",
    "cm = confusion_matrix(y_test,y_pred)\n",
    "plot_confusion_matrix(cm, class_labels=[1,2,3,4,5,6,7], figsize=(12, 4), cmap='Blues',title='Model with scalling')"
   ]
  },
  {
   "cell_type": "markdown",
   "id": "df628ee5-301d-4cbb-820d-460621f4aacc",
   "metadata": {},
   "source": [
    "# Balancing Training Data with SMOTE"
   ]
  },
  {
   "cell_type": "code",
   "execution_count": 18,
   "id": "c50df1f1-84bc-46a3-8afb-e4e7353a2ec3",
   "metadata": {},
   "outputs": [],
   "source": [
    "smote = SMOTE(k_neighbors=1)  \n",
    "X_train_smote, y_train_smote = smote.fit_resample(X_train, y_train)"
   ]
  },
  {
   "cell_type": "code",
   "execution_count": 19,
   "id": "03a46c5d-c1fe-45d1-ae3a-ab0e868ea54e",
   "metadata": {},
   "outputs": [
    {
     "data": {
      "text/plain": [
       "type\n",
       "1    29\n",
       "2    18\n",
       "4    11\n",
       "7     7\n",
       "6     7\n",
       "3     5\n",
       "5     2\n",
       "Name: count, dtype: int64"
      ]
     },
     "execution_count": 19,
     "metadata": {},
     "output_type": "execute_result"
    }
   ],
   "source": [
    "y = pd.Series(y_train)\n",
    "\n",
    "# Get value counts\n",
    "y.value_counts()\n"
   ]
  },
  {
   "cell_type": "code",
   "execution_count": 20,
   "id": "32577701-16d4-4d5a-a4de-a07d927e62fd",
   "metadata": {},
   "outputs": [
    {
     "name": "stdout",
     "output_type": "stream",
     "text": [
      "Classification Report:\n",
      "              precision    recall  f1-score   support\n",
      "\n",
      "           1       1.00      0.90      0.95        10\n",
      "           2       1.00      1.00      1.00         2\n",
      "           4       0.67      1.00      0.80         2\n",
      "           5       1.00      1.00      1.00         2\n",
      "           6       1.00      1.00      1.00         1\n",
      "           7       1.00      1.00      1.00         3\n",
      "\n",
      "    accuracy                           0.95        20\n",
      "   macro avg       0.94      0.98      0.96        20\n",
      "weighted avg       0.97      0.95      0.95        20\n",
      "\n",
      "Confusion Matrix:\n",
      "[[9 0 1 0 0 0]\n",
      " [0 2 0 0 0 0]\n",
      " [0 0 2 0 0 0]\n",
      " [0 0 0 2 0 0]\n",
      " [0 0 0 0 1 0]\n",
      " [0 0 0 0 0 3]]\n"
     ]
    }
   ],
   "source": [
    "# Create KNN classifier\n",
    "knn_model = KNeighborsClassifier(n_neighbors=11)\n",
    "# Evaluate the model using the defined function\n",
    "model = evaluate_model(knn_model, X_train_smote, X_test, y_train_smote, y_test)"
   ]
  },
  {
   "cell_type": "markdown",
   "id": "d5a5cb95-6866-48f0-ae01-34f01ff1cce7",
   "metadata": {},
   "source": [
    "\n",
    "The classification model achieved an overall accuracy of 95%. It demonstrates high performance across most classes, with precision, recall, and F1-scores all being notably high. Specifically:\n",
    "- **Class 1**: Precision of 1.00 and F1-score of 0.95.\n",
    "- **Class 2**: Perfect scores with 1.00 precision and F1-score.\n",
    "- **Class 4**: Lower precision at 0.67 but a perfect recall of 1.00.\n",
    "- **Class 5**: Perfect scores across all metrics.\n",
    "- **Class 6**: Achieved perfect precision and recall.\n",
    "- **Class 7**: Also has perfect precision and recall.\n",
    "\n",
    "**Confusion Matrix:**\n",
    "The confusion matrix shows the following distribution:\n",
    "- **Class 1**: 9 true positives and 1 false negative.\n",
    "- **Class 2**: 2 true positives with no errors.\n",
    "- **Class 4**: 2 true positives with no misclassifications.\n",
    "- **Class 5**: 2 true positives with no errors.\n",
    "- **Class 6**: 1 true positive with no misclassifications.\n",
    "- **Class 7**: 3 true positives with no errors.\n",
    "\n",
    "The model shows a strong ability to correctly classify instances with minimal misclassification."
   ]
  },
  {
   "cell_type": "code",
   "execution_count": 21,
   "id": "676ffc80-aafe-4322-9696-8b1c0773223c",
   "metadata": {},
   "outputs": [
    {
     "data": {
      "image/png": "[encoded data removed]",
      "text/plain": [
       "<Figure size 1200x400 with 2 Axes>"
      ]
     },
     "metadata": {},
     "output_type": "display_data"
    }
   ],
   "source": [
    "y_pred = model.predict(X_test)\n",
    "cm = confusion_matrix(y_test,y_pred)\n",
    "plot_confusion_matrix(cm, class_labels=[1,2,3,4,5,6,7], figsize=(12, 4), cmap='Blues',title='Model with SMOTE')"
   ]
  },
  {
   "cell_type": "code",
   "execution_count": 22,
   "id": "483239bf-8f85-4933-8f71-d35290d3cdd4",
   "metadata": {},
   "outputs": [],
   "source": [
    "param_grid = {\n",
    "    'n_neighbors': [3, 5, 7, 9, 11],\n",
    "    'weights': ['uniform', 'distance'],\n",
    "    'p': [1, 2]\n",
    "}\n"
   ]
  },
  {
   "cell_type": "code",
   "execution_count": 23,
   "id": "20de6287-4c79-46e6-9ab2-398ed460393b",
   "metadata": {},
   "outputs": [
    {
     "name": "stdout",
     "output_type": "stream",
     "text": [
      "Best Parameters found by GridSearchCV:\n",
      "{'n_neighbors': 5, 'p': 1, 'weights': 'distance'}\n",
      "Best Score achieved by GridSearchCV:\n",
      "0.9375\n"
     ]
    }
   ],
   "source": [
    "knn = KNeighborsClassifier()\n",
    "\n",
    "grid_search = GridSearchCV(estimator=knn, param_grid=param_grid, cv=5, scoring='accuracy', n_jobs=-1)\n",
    "grid_search.fit(X_train_scaled, y_train)\n",
    "\n",
    "print(\"Best Parameters found by GridSearchCV:\")\n",
    "print(grid_search.best_params_)\n",
    "print(\"Best Score achieved by GridSearchCV:\")\n",
    "print(grid_search.best_score_)\n"
   ]
  },
  {
   "cell_type": "code",
   "execution_count": 24,
   "id": "9a88152d-0737-4de3-b975-51f2b6eaa2f5",
   "metadata": {},
   "outputs": [],
   "source": [
    "X = data.drop(columns='type')\n",
    "y = data['type']"
   ]
  },
  {
   "cell_type": "code",
   "execution_count": 25,
   "id": "af89fc99-7166-4f7e-8d3a-01065e3a37da",
   "metadata": {},
   "outputs": [
    {
     "name": "stdout",
     "output_type": "stream",
     "text": [
      "Classification Report:\n",
      "              precision    recall  f1-score   support\n",
      "\n",
      "           1       1.00      1.00      1.00        10\n",
      "           2       1.00      1.00      1.00         2\n",
      "           4       1.00      1.00      1.00         2\n",
      "           5       1.00      1.00      1.00         2\n",
      "           6       1.00      1.00      1.00         1\n",
      "           7       1.00      1.00      1.00         3\n",
      "\n",
      "    accuracy                           1.00        20\n",
      "   macro avg       1.00      1.00      1.00        20\n",
      "weighted avg       1.00      1.00      1.00        20\n",
      "\n",
      "Confusion Matrix:\n",
      "[[10  0  0  0  0  0]\n",
      " [ 0  2  0  0  0  0]\n",
      " [ 0  0  2  0  0  0]\n",
      " [ 0  0  0  2  0  0]\n",
      " [ 0  0  0  0  1  0]\n",
      " [ 0  0  0  0  0  3]]\n"
     ]
    }
   ],
   "source": [
    "# Split the data into training and test sets\n",
    "X_train, X_test, y_train, y_test = train_test_split(X, y, test_size=0.2, random_state=42)\n",
    "# Standardize features\n",
    "scaler = StandardScaler()\n",
    "X_train_scaled = scaler.fit_transform(X_train)\n",
    "X_test_scaled = scaler.transform(X_test)\n",
    "# Create KNN classifier\n",
    "knn_model = KNeighborsClassifier(n_neighbors=5,p=1,weights='distance')\n",
    "\n",
    "# Evaluate the model using the defined function\n",
    "model = evaluate_model(knn_model, X_train_scaled, X_test_scaled, y_train, y_test)"
   ]
  },
  {
   "cell_type": "markdown",
   "id": "5cd5c44a-fba4-46b2-a4cb-1c47aa411949",
   "metadata": {},
   "source": [
    "\n",
    "- **Precision, Recall, and F1-Score:** All metrics are 1.00 across all classes, indicating perfect performance.\n",
    "- **Accuracy:** 1.00 (100%), showing the model correctly predicted all instances.\n",
    "- **Macro and Weighted Averages:** Both metrics are 1.00, reflecting the model’s consistent performance across all classes.\n",
    "\n",
    "**Confusion Matrix:**\n",
    "- The matrix shows perfect classification with no misclassifications, as each class is correctly predicted with no off-diagonal values.\n",
    "\n",
    "**Summary:** The model achieves perfect performance with 100% accuracy and no misclassifications, suggesting overfitting. The model performs flawlessly on the training or test data but may not generalize well to unseen data.\n"
   ]
  },
  {
   "cell_type": "code",
   "execution_count": 26,
   "id": "01be7312-9018-4370-baf0-e91e09b004e4",
   "metadata": {},
   "outputs": [
    {
     "data": {
      "image/png": "[encoded data removed]",
      "text/plain": [
       "<Figure size 1200x400 with 2 Axes>"
      ]
     },
     "metadata": {},
     "output_type": "display_data"
    }
   ],
   "source": [
    "y_pred = model.predict(X_test_scaled)\n",
    "cm = confusion_matrix(y_test,y_pred)\n",
    "plot_confusion_matrix(cm, class_labels=[1,2,3,4,5,6,7], figsize=(12, 4), cmap='Blues',title=\"Model with Gridsearch\")"
   ]
  },
  {
   "cell_type": "markdown",
   "id": "d4ee25ac-c40b-489e-b426-efad416af519",
   "metadata": {},
   "source": [
    "# What are the key hyperparameters in KNN?abs\n",
    "\n",
    "Key hyperparameters in the **K-Nearest Neighbors (KNN)** algorithm significantly impact the model’s performance and accuracy. Here are the most important ones:\n",
    "\n",
    "### 1. **`n_neighbors` (K)**\n",
    "   - **Description**: This is the number of nearest neighbors to consider when making predictions.\n",
    "   - **Effect**: \n",
    "     - A smaller `K` (e.g., `K=1`) makes the model more sensitive to noise and leads to higher variance (overfitting).\n",
    "     - A larger `K` leads to a smoother decision boundary but might increase bias (underfitting).\n",
    "   - **Typical Values**: Commonly tested values range from 3 to 10, though optimal `K` depends on the data.\n",
    "\n",
    "### 2. **`weights`**\n",
    "   - **Description**: Determines how the distances of neighbors are weighted when predicting the class (or regression value) of a new point.\n",
    "   - **Options**:\n",
    "     - **`uniform`**: All neighbors are weighted equally.\n",
    "     - **`distance`**: Closer neighbors have a higher influence than distant neighbors.\n",
    "   - **Effect**:\n",
    "     - **`uniform`** works better when the distribution of neighbors is relatively uniform.\n",
    "     - **`distance`** is useful when closer neighbors are more reliable indicators of the target.\n",
    "\n",
    "### 3. **`metric`**\n",
    "   - **Description**: The distance metric used to calculate the distance between points.\n",
    "   - **Common Metrics**:\n",
    "     - **`euclidean`**: Standard straight-line distance between two points.\n",
    "     - **`manhattan`**: Distance measured along axes at right angles (L1 norm).\n",
    "     - **`minkowski`**: A generalization that includes both Euclidean and Manhattan by setting the `p` parameter.\n",
    "     - **`cosine`**: Cosine similarity-based distance.\n",
    "   - **Effect**: The choice of distance metric can influence how the algorithm defines \"closeness\" and the effectiveness of the model for different datasets.\n",
    "\n",
    "### 4. **`p` (for Minkowski Distance)**\n",
    "   - **Description**: This parameter is used with the Minkowski distance metric.\n",
    "   - **Effect**:\n",
    "     - **`p=1`**: Equivalent to the Manhattan distance (L1 norm).\n",
    "     - **`p=2`**: Equivalent to the Euclidean distance (L2 norm).\n",
    "     - Higher values emphasize larger differences, changing how distances are calculated between points.\n",
    "\n",
    "### 5. **`algorithm`**\n",
    "   - **Description**: The algorithm used to compute the nearest neighbors.\n",
    "   - **Options**:\n",
    "     - **`auto`**: Automatically selects the best algorithm.\n",
    "     - **`ball_tree`**: A tree-based approach.\n",
    "     - **`kd_tree`**: Another tree-based approach.\n",
    "     - **`brute`**: A brute-force search that computes the distance between all points.\n",
    "   - **Effect**: Influences the speed and efficiency of the algorithm, especially with large datasets. `kd_tree` and `ball_tree` are faster for higher dimensions, while `brute` may be useful for small datasets.\n",
    "\n",
    "### 6. **`leaf_size`**\n",
    "   - **Description**: This is the leaf size passed to the `ball_tree` or `kd_tree` algorithms.\n",
    "   - **Effect**: Smaller values speed up the tree-building process but may slow down the query time, while larger values slow down tree-building but speed up querying. Tuning this can improve model efficiency with large datasets.\n",
    "\n",
    "### 7. **`n_jobs`**\n",
    "   - **Description**: Specifies the number of parallel jobs to run for distance computations.\n",
    "   - **Effect**: A higher value (e.g., `n_jobs=-1` for using all cores) speeds up training and prediction, especially with large datasets.\n",
    "\n",
    "### Summary of Key Hyperparameters:\n",
    "- **`n_neighbors`**: Number of neighbors (K).\n",
    "- **`weights`**: Uniform or distance-based weighting of neighbors.\n",
    "- **`metric`**: Distance metric (Euclidean, Manhattan, Minkowski, etc.).\n",
    "- **`p`**: Minkowski parameter.\n",
    "- **`algorithm`**: Algorithm for neighbor search (auto, brute, ball_tree, kd_tree).\n",
    "- **`leaf_size`**: Affects tree-based search algorithms.\n",
    "- **`n_jobs`**: Parallel processing to speed up computations.\n",
    "\n",
    "Choosing the right combination of these hyperparameters can significantly impact the model’s performance."
   ]
  },
  {
   "attachments": {
    "0471bd55-9df4-4fef-b587-514b570b13a1.png": {
     "image/png": "[encoded data removed]"
    },
    "174ccb2e-5e4e-473b-933a-c0746f6a9b9d.png": {
     "image/png": "[encoded data removed]"
    },
    "3baea10d-7397-4a2d-a752-1f89ab0efb68.png": {
     "image/png": "[encoded data removed]"
    },
    "59230000-93b4-4812-8708-507b23e5f93d.png": {
     "image/png": "[encoded data removed]"
    },
    "766733de-571d-40b6-ba11-3dd5150c31c0.png": {
     "image/png": "[encoded data removed]"
    },
    "8f2525ed-a569-4e0a-8874-cf704f4e2ca6.png": {
     "image/png": "[encoded data removed]"
    },
    "bec18293-dbb6-4f56-ba28-2da019cabb8d.png": {
     "image/png": "[encoded data removed]"
    },
    "c3f0b74f-e1ef-4abc-bc3d-459737adb84e.png": {
     "image/png": "[encoded data removed]"
    }
   },
   "cell_type": "markdown",
   "id": "00451c00-e454-4ba2-8bb5-2f8e2d88407f",
   "metadata": {},
   "source": [
    "# What distance metrics can be used in KNN?abs\n",
    "\n",
    "In **K-Nearest Neighbors (KNN)**, distance metrics are used to measure the \"closeness\" between data points. The choice of distance metric significantly affects how the model identifies nearest neighbors. Here are the most commonly used distance metrics in KNN:\n",
    "\n",
    "### 1. **Euclidean Distance (L2 Norm)**\n",
    "   - **Formula**:  \n",
    "\n",
    "     ![Screenshot 2024-09-20 023528.png](attachment:8f2525ed-a569-4e0a-8874-cf704f4e2ca6.png)\n",
    "\n",
    "   - **Description**: This is the standard straight-line distance between two points in Euclidean space.\n",
    "   - **Use Case**: It works well in many general scenarios and is the default metric in most KNN implementations.\n",
    "\n",
    "### 2. **Manhattan Distance (L1 Norm)**\n",
    "   - **Formula**:\n",
    "   - \n",
    "     ![Screenshot 2024-09-20 023523.png](attachment:59230000-93b4-4812-8708-507b23e5f93d.png)\n",
    "     \n",
    "   - **Description**: This is the sum of the absolute differences of the coordinates (also called the \"taxicab\" distance).\n",
    "   - **Use Case**: Works well when the differences between features are better captured by absolute differences (e.g., grid-like structures).\n",
    "\n",
    "### 3. **Minkowski Distance**\n",
    "   - **Formula**:\n",
    "     ![Screenshot 2024-09-20 023514.png](attachment:174ccb2e-5e4e-473b-933a-c0746f6a9b9d.png)\n",
    "\n",
    "   - **Description**: This is a generalization of both Euclidean and Manhattan distances. By adjusting the parameter `p`, you can switch between the two:\n",
    "     - **p = 1**: Equivalent to Manhattan distance.\n",
    "     - **p = 2**: Equivalent to Euclidean distance.\n",
    "   - **Use Case**: Provides flexibility between L1 (Manhattan) and L2 (Euclidean) norms depending on the dataset.\n",
    "\n",
    "### 4. **Chebyshev Distance (L∞ Norm)**\n",
    "   - **Formula**:\n",
    "![Screenshot 2024-09-20 023510.png](attachment:3baea10d-7397-4a2d-a752-1f89ab0efb68.png)\n",
    "     \n",
    "   - **Description**: It measures the maximum difference between coordinates in any dimension.\n",
    "   - **Use Case**: Useful in situations where the maximum distance between coordinates is critical, rather than the cumulative distance.\n",
    "\n",
    "### 5. **Cosine Distance**\n",
    "   - **Formula**:  \n",
    "     ![Screenshot 2024-09-20 023500.png](attachment:bec18293-dbb6-4f56-ba28-2da019cabb8d.png)\n",
    "   - **Description**: Cosine distance measures the cosine of the angle between two vectors rather than their magnitude. It focuses on the direction rather than the distance between the points.\n",
    "   - **Use Case**: Often used in text and document similarity (high-dimensional sparse data) where the magnitude of vectors is less important than their orientation.\n",
    "\n",
    "### 6. **Hamming Distance**\n",
    "   - **Formula**:  \n",
    "     ![Screenshot 2024-09-20 023453.png](attachment:c3f0b74f-e1ef-4abc-bc3d-459737adb84e.png)\n",
    "   - **Description**: Hamming distance counts the number of positions at which the corresponding elements differ between two binary strings or categorical variables.\n",
    "   - **Use Case**: Useful when the features are categorical, like in text or DNA sequences.\n",
    "\n",
    "### 7. **Mahalanobis Distance**\n",
    "   - **Formula**:  \n",
    "     ![Screenshot 2024-09-20 023448.png](attachment:0471bd55-9df4-4fef-b587-514b570b13a1.png)\n",
    "   - **Description**: It measures the distance between two points while accounting for correlations between the variables (using the inverse covariance matrix `S`).\n",
    "   - **Use Case**: Useful for data with correlated features or when scaling is important.\n",
    "\n",
    "### 8. **Jaccard Distance**\n",
    "   - **Formula**:  \n",
    "     ![Screenshot 2024-09-20 023441.png](attachment:766733de-571d-40b6-ba11-3dd5150c31c0.png)\n",
    "   - **Description**: This metric measures the dissimilarity between two sets by considering the ratio of the intersection to the union of the sets.\n",
    "   - **Use Case**: Useful for binary or set-like data, such as text documents or genetic sequences.\n",
    "\n",
    "---\n",
    "\n",
    "### Summary of Distance Metrics in KNN:\n",
    "- **Euclidean Distance**: Common default, measures straight-line distance.\n",
    "- **Manhattan Distance**: Focuses on grid-like structures using absolute differences.\n",
    "- **Minkowski Distance**: A generalized form that includes both Euclidean and Manhattan.\n",
    "- **Chebyshev Distance**: Maximum distance along any axis.\n",
    "- **Cosine Distance**: Measures angular difference, used in text similarity.\n",
    "- **Hamming Distance**: Compares categorical or binary features.\n",
    "- **Mahalanobis Distance**: Accounts for correlations in the data.\n",
    "- **Jaccard Distance**: Used for set-based or binary data comparisons.\n",
    "\n",
    "The choice of distance metric depends on the nature of the data and the problem you're solving."
   ]
  },
  {
   "cell_type": "code",
   "execution_count": null,
   "id": "1951337a-6be5-42a0-8bb6-8e6090b6b000",
   "metadata": {},
   "outputs": [],
   "source": []
  }
 ],
 "metadata": {
  "kernelspec": {
   "display_name": "Python 3 (ipykernel)",
   "language": "python",
   "name": "python3"
  },
  "language_info": {
   "codemirror_mode": {
    "name": "ipython",
    "version": 3
   },
   "file_extension": ".py",
   "mimetype": "text/x-python",
   "name": "python",
   "nbconvert_exporter": "python",
   "pygments_lexer": "ipython3",
   "version": "3.12.4"
  }
 },
 "nbformat": 4,
 "nbformat_minor": 5
}
