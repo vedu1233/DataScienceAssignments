{
 "cells": [
  {
   "cell_type": "markdown",
   "id": "69c5541c-59be-45ca-9864-8290ccef4d2d",
   "metadata": {},
   "source": [
    "# chi-square test"
   ]
  },
  {
   "cell_type": "markdown",
   "id": "0753a00c-0453-4207-8407-ac089bf52dff",
   "metadata": {},
   "source": [
    "## Import Dependecies"
   ]
  },
  {
   "cell_type": "code",
   "execution_count": 43,
   "id": "1233a8a4-504a-4bd1-b951-e01cd0ac2295",
   "metadata": {},
   "outputs": [],
   "source": [
    "import pandas as pd\n",
    "import math\n",
    "from scipy.stats import chi2_contingency,chi2"
   ]
  },
  {
   "cell_type": "code",
   "execution_count": 39,
   "id": "059a680e-e37a-4725-a928-aa30169ed30e",
   "metadata": {},
   "outputs": [],
   "source": [
    "data = [[50,70],[80,100],[60,90],[30,50],[20,50]] # create a dictionary "
   ]
  },
  {
   "cell_type": "markdown",
   "id": "9a6dbd71-581a-40ca-9f8a-35749876ec93",
   "metadata": {},
   "source": [
    "### Creating a Dataframe"
   ]
  },
  {
   "cell_type": "code",
   "execution_count": 69,
   "id": "94a78a10-9e21-486a-b3cb-960d03ee07c2",
   "metadata": {},
   "outputs": [],
   "source": [
    "df =pd.DataFrame(data,index =['Very Satisfied','Satisfied','Neutral','Unsatisfied','Very Unsatisfied'],\n",
    "                columns =[\"smart_thermostat\",\"smart_light \"]) #passing the dictionary to the dataframe\n"
   ]
  },
  {
   "cell_type": "code",
   "execution_count": 46,
   "id": "d3bc74b2-4070-443d-aa76-6c9d7c07d0ba",
   "metadata": {},
   "outputs": [
    {
     "data": {
      "text/html": [
       "<div>\n",
       "<style scoped>\n",
       "    .dataframe tbody tr th:only-of-type {\n",
       "        vertical-align: middle;\n",
       "    }\n",
       "\n",
       "    .dataframe tbody tr th {\n",
       "        vertical-align: top;\n",
       "    }\n",
       "\n",
       "    .dataframe thead th {\n",
       "        text-align: right;\n",
       "    }\n",
       "</style>\n",
       "<table border=\"1\" class=\"dataframe\">\n",
       "  <thead>\n",
       "    <tr style=\"text-align: right;\">\n",
       "      <th></th>\n",
       "      <th>smart_thermostat</th>\n",
       "      <th>smart_light</th>\n",
       "    </tr>\n",
       "  </thead>\n",
       "  <tbody>\n",
       "    <tr>\n",
       "      <th>Very Satisfied</th>\n",
       "      <td>50</td>\n",
       "      <td>70</td>\n",
       "    </tr>\n",
       "    <tr>\n",
       "      <th>Satisfied</th>\n",
       "      <td>80</td>\n",
       "      <td>100</td>\n",
       "    </tr>\n",
       "    <tr>\n",
       "      <th>Neutral</th>\n",
       "      <td>60</td>\n",
       "      <td>90</td>\n",
       "    </tr>\n",
       "    <tr>\n",
       "      <th>Unsatisfied</th>\n",
       "      <td>30</td>\n",
       "      <td>50</td>\n",
       "    </tr>\n",
       "    <tr>\n",
       "      <th>Very Unsatisfied</th>\n",
       "      <td>20</td>\n",
       "      <td>50</td>\n",
       "    </tr>\n",
       "  </tbody>\n",
       "</table>\n",
       "</div>"
      ],
      "text/plain": [
       "                  smart_thermostat  smart_light \n",
       "Very Satisfied                  50            70\n",
       "Satisfied                       80           100\n",
       "Neutral                         60            90\n",
       "Unsatisfied                     30            50\n",
       "Very Unsatisfied                20            50"
      ]
     },
     "execution_count": 46,
     "metadata": {},
     "output_type": "execute_result"
    }
   ],
   "source": [
    "df"
   ]
  },
  {
   "cell_type": "markdown",
   "id": "fdb2908b-9d06-45bd-8315-9c0b7359f9cd",
   "metadata": {},
   "source": [
    "## State the Hypotheses:"
   ]
  },
  {
   "cell_type": "raw",
   "id": "60836dc5-3d2b-4754-b2d2-2f87eb61720e",
   "metadata": {},
   "source": [
    "Alternative_Hypothesis = 'There is an association between the type of device purchased and customer satisfaction level (they are not independent).'\n",
    "\n",
    "Null_Hypothesis: 'There is no association between the type of device purchased and customer satisfaction level (they are independent).'"
   ]
  },
  {
   "cell_type": "markdown",
   "id": "b8572885-5f31-4a85-92f2-a98e0b62ba3d",
   "metadata": {},
   "source": [
    "## Find the Critical Value & chi-squre statistic "
   ]
  },
  {
   "cell_type": "code",
   "execution_count": 59,
   "id": "ec6ff922-1588-45ad-9ddf-3b3abb1e256d",
   "metadata": {},
   "outputs": [],
   "source": [
    "chi2, p, dof, expected = chi2_contingency(df) "
   ]
  },
  {
   "cell_type": "code",
   "execution_count": 64,
   "id": "8af60013-6615-455f-85c7-af8f68654fc1",
   "metadata": {},
   "outputs": [
    {
     "name": "stdout",
     "output_type": "stream",
     "text": [
      "Chi-square Statistic: 5.638227513227513\n",
      "P-value: 0.22784371130697179\n",
      "Degrees of Freedom: 4\n",
      "Expected Frequencies:\n",
      "[[ 48.  72.]\n",
      " [ 72. 108.]\n",
      " [ 60.  90.]\n",
      " [ 32.  48.]\n",
      " [ 28.  42.]]\n"
     ]
    }
   ],
   "source": [
    "print(f\"Chi-square Statistic: {chi2}\") #chi square statistics\n",
    "print(f\"P-value: {p}\") # p is the probabilitry value\n",
    "print(f\"Degrees of Freedom: {dof}\") # degree of freedom n-1\n",
    "print(f\"Expected Frequencies:\\n{expected}\") # expected frequencies"
   ]
  },
  {
   "cell_type": "markdown",
   "id": "a809a59a-5d74-4e47-bd0b-851305027a02",
   "metadata": {},
   "source": [
    "## Decision Making"
   ]
  },
  {
   "cell_type": "code",
   "execution_count": 68,
   "id": "2e7f7aae-54f0-4eb0-8aa6-df297ca035cc",
   "metadata": {},
   "outputs": [
    {
     "name": "stdout",
     "output_type": "stream",
     "text": [
      "accept the null hypothesis and reject the alternative hypothesis hence there is no signaficanct association \n",
      "Chi-square Statistic: 5.638227513227513\n",
      "P-value: 0.22784371130697179\n",
      "Degrees of Freedom: 4\n",
      "Expected Frequencies:\n",
      "[[ 48.  72.]\n",
      " [ 72. 108.]\n",
      " [ 60.  90.]\n",
      " [ 32.  48.]\n",
      " [ 28.  42.]]\n"
     ]
    }
   ],
   "source": [
    "if p<0.05: # apply if else condition\n",
    "    print(\"reject the null hypothesis & accept the altrnative hypotgesis hence there is a significant association\")\n",
    "else:\n",
    "    print(\"accept the null hypothesis and reject the alternative hypothesis hence there is no signaficanct association \")\n",
    "print(f\"Chi-square Statistic: {chi2}\") #chi square statistics\n",
    "print(f\"P-value: {p}\") # p is the probabilitry value\n",
    "print(f\"Degrees of Freedom: {dof}\") # degree of freedom n-1\n",
    "print(f\"Expected Frequencies:\\n{expected}\") # expected frequencies"
   ]
  },
  {
   "cell_type": "code",
   "execution_count": null,
   "id": "c6550350-09e0-444a-83f6-ac55775399ba",
   "metadata": {},
   "outputs": [],
   "source": []
  }
 ],
 "metadata": {
  "kernelspec": {
   "display_name": "Python 3 (ipykernel)",
   "language": "python",
   "name": "python3"
  },
  "language_info": {
   "codemirror_mode": {
    "name": "ipython",
    "version": 3
   },
   "file_extension": ".py",
   "mimetype": "text/x-python",
   "name": "python",
   "nbconvert_exporter": "python",
   "pygments_lexer": "ipython3",
   "version": "3.12.4"
  }
 },
 "nbformat": 4,
 "nbformat_minor": 5
}
