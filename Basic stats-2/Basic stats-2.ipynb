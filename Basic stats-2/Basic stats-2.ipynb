{
 "cells": [
  {
   "cell_type": "markdown",
   "id": "8d2183ef-b691-44ca-93ee-97e3dc4675fa",
   "metadata": {},
   "source": [
    "# confidence interval"
   ]
  },
  {
   "cell_type": "code",
   "execution_count": 22,
   "id": "0e5156ce-d887-4e39-8b5d-de8095aaa49a",
   "metadata": {},
   "outputs": [],
   "source": [
    "import pandas as pd\n",
    "import numpy as np\n",
    "from scipy import stats"
   ]
  },
  {
   "cell_type": "code",
   "execution_count": 23,
   "id": "9100c0db-5b40-4322-8063-db02d084b659",
   "metadata": {},
   "outputs": [],
   "source": [
    "data= np.array([1.13, 1.55, 1.43, 0.92, 1.25, 1.36, 1.32, 0.85, 1.07, 1.48, 1.20, 1.33, 1.18, 1.22, 1.29])"
   ]
  },
  {
   "cell_type": "markdown",
   "id": "fb949566-2715-4c5c-9d65-202a2cc61ecd",
   "metadata": {},
   "source": [
    "# 1. build a 99% confidence interval using the sample standard deviation"
   ]
  },
  {
   "cell_type": "code",
   "execution_count": 5,
   "id": "90a11b5d-3b15-4585-b7e9-a6f7c8cccc6e",
   "metadata": {},
   "outputs": [],
   "source": [
    "sample_mean =data.mean()\n",
    "sample_std =data.std()"
   ]
  },
  {
   "cell_type": "code",
   "execution_count": 29,
   "id": "8a636003-396f-4955-bb4b-27a58af46f7e",
   "metadata": {},
   "outputs": [],
   "source": [
    "n =len(data)\n",
    "df = n-1"
   ]
  },
  {
   "cell_type": "code",
   "execution_count": 40,
   "id": "c38f9bd9-4ffd-4f28-87b1-cffe29eda226",
   "metadata": {},
   "outputs": [
    {
     "name": "stdout",
     "output_type": "stream",
     "text": [
      "Sample mean : 1.2387\n",
      "Sample standard deviation : 1.2387\n",
      "Degree of Freedom : 14\n",
      "t-score for 99% confidence interval : 2.976842734370834\n",
      "Margin of error : 0.1434\n",
      "99% Confidence interval is:(1.10,1.38)\n"
     ]
    }
   ],
   "source": [
    "confidence_level = 0.99\n",
    "t_score = stats.t.ppf((1 + confidence_level) / 2, df)\n",
    "error_margin =t_score * (sample_std/np.sqrt(n))\n",
    "\n",
    "lower_bound = sample_mean - error_margin\n",
    "upper_bound = sample_mean + error_margin\n",
    "\n",
    "print(\"Sample mean :\",np.round(sample_mean,4))\n",
    "\n",
    "print(\"Sample standard deviation :\",np.round(sample_mean,4))\n",
    "\n",
    "print(\"Degree of Freedom :\",df)\n",
    "\n",
    "print(\"t-score for 99% confidence interval :\",t_score)\n",
    "\n",
    "print('Margin of error :',np.round(error_margin,4))\n",
    "\n",
    "print(f\"99% Confidence interval is:({lower_bound:.2f},{upper_bound:.2f})\")"
   ]
  },
  {
   "cell_type": "markdown",
   "id": "a2b40520-11b8-4116-bb19-be540d9de1ab",
   "metadata": {},
   "source": [
    "# 2.Build the 99% confidence interval using population standard deviation"
   ]
  },
  {
   "cell_type": "code",
   "execution_count": 42,
   "id": "ed09e082-a354-40b6-84ab-7594f806e871",
   "metadata": {},
   "outputs": [
    {
     "name": "stdout",
     "output_type": "stream",
     "text": [
      "Sample mean : 1.2387\n",
      "Population standard deviation : 0.2\n",
      "Z_score for 99% confidence level 2.5758293035489004\n",
      "Margin of error : 0.1537\n",
      "99% confidence interval :(1.08,1.38)\n"
     ]
    }
   ],
   "source": [
    "pop_std =0.2 # given population standard deviation\n",
    "sample_mean =data.mean() \n",
    "df =len(data)-1 # degree of freedom\n",
    "\n",
    "# calculate the t score\n",
    "z_score = stats.norm.ppf((1+ 0.99) / 2)\n",
    "error_margin =  t_score * (pop_std/np.sqrt(len(data)))\n",
    "\n",
    "lower_bound =sample_mean - error_margin\n",
    "upper_bounb =sample_mean  + error_margin\n",
    "\n",
    "print(\"Sample mean :\",np.round(sample_mean,4))\n",
    "print(\"Population standard deviation :\",np.round(pop_std,4))\n",
    "print(\"Z_score for 99% confidence level\",z_score)\n",
    "print(\"Margin of error :\",np.round(error_margin,4))\n",
    "print(f\"99% confidence interval :({lower_bound:.2f},{upper_bound:.2f})\")\n"
   ]
  },
  {
   "cell_type": "code",
   "execution_count": 6,
   "id": "adc1ab03-cde2-4a49-98db-6277faa54875",
   "metadata": {},
   "outputs": [],
   "source": []
  },
  {
   "cell_type": "code",
   "execution_count": 35,
   "id": "b234bdaf-0522-4e6e-9bdb-d2cf59f93e0c",
   "metadata": {},
   "outputs": [],
   "source": []
  },
  {
   "cell_type": "code",
   "execution_count": null,
   "id": "a44c18cd-30e8-481a-a176-a7c2445285d4",
   "metadata": {},
   "outputs": [],
   "source": []
  }
 ],
 "metadata": {
  "kernelspec": {
   "display_name": "Python 3 (ipykernel)",
   "language": "python",
   "name": "python3"
  },
  "language_info": {
   "codemirror_mode": {
    "name": "ipython",
    "version": 3
   },
   "file_extension": ".py",
   "mimetype": "text/x-python",
   "name": "python",
   "nbconvert_exporter": "python",
   "pygments_lexer": "ipython3",
   "version": "3.12.4"
  }
 },
 "nbformat": 4,
 "nbformat_minor": 5
}
