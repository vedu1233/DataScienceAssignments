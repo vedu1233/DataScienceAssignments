{
 "cells": [
  {
   "attachments": {},
   "cell_type": "markdown",
   "id": "36f978b2-2b9c-4f48-a607-c74890fd9e5c",
   "metadata": {},
   "source": [
    "### Background:\n",
    "Bombay hospitality Ltd. operates a franchise model for producing exotic Norwegian dinners throughout New England. The operating cost for a franchise in a week (W) is given by the equation W = $1,000 + $5X, where X represents the number of units produced in a week. Recent feedback from restaurant owners suggests that this cost model may no longer be accurate, as their observed weekly operating costs are higher.\n",
    "\n",
    "\n",
    "### Objective: \n",
    "To investigate the restaurant owners' claim about the increase in weekly operating costs using hypothesis testing.\n",
    "\n",
    "\n",
    "### Data Provided:\n",
    "•\tThe theoretical weekly operating cost model: W = $1,000 + $5X\n",
    "•\tSample of 25 restaurants with a mean weekly cost of Rs. 3,050\n",
    "•\tNumber of units produced in a week (X) follows a normal distribution with a mean (μ) of 600 units and a standard deviation (σ) of 25 units\n",
    "\n",
    "\n",
    "### 1).State the Hypotheses Statement:\n",
    "\n",
    "Null Hypothesis (h_0): The mean weekly operating cost is equal to the theoretical model’s prediction\n",
    "\n",
    "Alternative Hypothesis (h_1): The mean weekly operating cost is greater than the theoretical prediction.\n",
    "\n",
    "### 2).calculate the statistics:\n",
    "Where:\n",
    "x̄ = 3050 (sample mean weekly cost 3050 Rs)\n",
    "u = theoratical mean weekly cost accordinf to the cost model(w =$1,000+$5X =4000units)\n",
    "σ=5×25=125 units.\n",
    "n = 25\n",
    "\n",
    "### 3).Determine the critical value :\n",
    "Using the alpha level of 5% (alpha =0.05),determine the critical value from the standard normbution table.ai(z) distribution table.\n",
    "\n",
    "alpha = 0.05\n",
    "critical value =1.645\n",
    "\n",
    "### 4). Make the Decision:\n",
    "Compare the test Statistics with the critical value to decide whether null hypothesis .to reject the null hypothesis.\n",
    "\n",
    "z<critical value\n",
    "\n",
    "So,the null hypothesis is accepted which is the mean of weekly operating cost is not greater than theoratical weekly operating cost od model.\n",
    "\n",
    "### 5).Conclusion:\n",
    "Based on the the Decision step 4,conclude whether there is strong evidence to support the restraurant owners\" claim that the weekly operating cost are\n",
    "higher than the model suggests.\n",
    "\n",
    "there is strong evidence to support the restaurant owners claim that the weekly operating costs are higher than the model suggest.\n",
    "\n",
    "\n",
    "   \n",
    "\n",
    "\n",
    "\n",
    "\n",
    "\n"
   ]
  },
  {
   "cell_type": "code",
   "execution_count": 1,
   "id": "91a297b1-21fb-4e47-a509-f4d070ecde77",
   "metadata": {},
   "outputs": [],
   "source": [
    "import math \n",
    "from scipy.stats import norm"
   ]
  },
  {
   "cell_type": "code",
   "execution_count": 3,
   "id": "88acff09-38b7-440b-b6b6-3c3c72da9510",
   "metadata": {},
   "outputs": [],
   "source": [
    "sample_mean =3050\n",
    "population_mean = 1000 +5*600 \n",
    "population_std =5 * 25\n",
    "n =25\n",
    "alpha = 0.05\n"
   ]
  },
  {
   "cell_type": "markdown",
   "id": "2ef8af8c-332c-4ad2-b79a-52aad3579caa",
   "metadata": {},
   "source": [
    "# critical value"
   ]
  },
  {
   "cell_type": "code",
   "execution_count": 6,
   "id": "bf955ce4-1b54-4e64-bdc9-59ff158b2d4c",
   "metadata": {},
   "outputs": [
    {
     "data": {
      "text/plain": [
       "1.6448536269514722"
      ]
     },
     "execution_count": 6,
     "metadata": {},
     "output_type": "execute_result"
    }
   ],
   "source": [
    "p_value = norm.ppf(1-alpha)\n",
    "p_value"
   ]
  },
  {
   "cell_type": "markdown",
   "id": "c580a5b0-ffca-44ec-919b-a2565e392f93",
   "metadata": {},
   "source": [
    "# test statistics"
   ]
  },
  {
   "cell_type": "code",
   "execution_count": 5,
   "id": "c947ecda-bd25-4631-8105-acbbafddf481",
   "metadata": {},
   "outputs": [
    {
     "data": {
      "text/plain": [
       "-38.0"
      ]
     },
     "execution_count": 5,
     "metadata": {},
     "output_type": "execute_result"
    }
   ],
   "source": [
    "z_score = (sample_mean-population_mean)/(population_std/math.sqrt(n))\n",
    "z_score"
   ]
  },
  {
   "cell_type": "markdown",
   "id": "8225e677-212b-4461-858c-7f3f98445a62",
   "metadata": {},
   "source": [
    "# conclusion"
   ]
  },
  {
   "cell_type": "code",
   "execution_count": 7,
   "id": "e6a7a320-9406-4e5e-9de1-74f7fbef413d",
   "metadata": {},
   "outputs": [
    {
     "name": "stdout",
     "output_type": "stream",
     "text": [
      "z_score-38.0<critical_value1.6448536269514722\n",
      "So, that we failed to reject the null hypothesis which is the mean of weekly operating cost \n",
      "is not greater than theoretical weekly operating cost model($1,000 + $5X)\n"
     ]
    }
   ],
   "source": [
    "print(f\"z_score{z_score}<critical_value{critical_value}\")\n",
    "print('So, that we failed to reject the null hypothesis which is the mean of weekly operating cost \\nis not greater than theoretical weekly operating cost model($1,000 + $5X)')\n"
   ]
  },
  {
   "cell_type": "code",
   "execution_count": null,
   "id": "d832c492-e2b0-45e7-815e-2afd97b4bc7c",
   "metadata": {},
   "outputs": [],
   "source": []
  }
 ],
 "metadata": {
  "kernelspec": {
   "display_name": "Python 3 (ipykernel)",
   "language": "python",
   "name": "python3"
  },
  "language_info": {
   "codemirror_mode": {
    "name": "ipython",
    "version": 3
   },
   "file_extension": ".py",
   "mimetype": "text/x-python",
   "name": "python",
   "nbconvert_exporter": "python",
   "pygments_lexer": "ipython3",
   "version": "3.12.4"
  }
 },
 "nbformat": 4,
 "nbformat_minor": 5
}
