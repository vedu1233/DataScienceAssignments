{
 "cells": [
  {
   "cell_type": "markdown",
   "id": "8023f437-4f59-4e34-ac85-481c7ec97d53",
   "metadata": {},
   "source": [
    "# Import Dependencies for Logistic Regression Analysis and Data Preprocessing"
   ]
  },
  {
   "cell_type": "code",
   "execution_count": 82,
   "id": "3ca05058-4cb1-481d-a1f0-b939a36e3ce8",
   "metadata": {},
   "outputs": [],
   "source": [
    "import pandas as pd \n",
    "import numpy as np \n",
    "import matplotlib.pyplot as plt \n",
    "import seaborn as sns\n",
    "from sklearn.preprocessing import StandardScaler\n",
    "from sklearn.linear_model import LogisticRegression\n",
    "from sklearn.preprocessing import LabelEncoder\n",
    "from sklearn.metrics import classification_report\n",
    "from sklearn.metrics import confusion_matrix\n",
    "from imblearn.over_sampling import SMOTE\n",
    "from sklearn.metrics import accuracy_score, precision_score, recall_score, f1_score, roc_auc_score\n",
    "import pickle\n",
    "from sklearn.model_selection import train_test_split"
   ]
  },
  {
   "cell_type": "markdown",
   "id": "85f3fc8c-e52f-4d10-82f0-df04c5941057",
   "metadata": {},
   "source": [
    "# Load and Preview Titanic Training Dataset"
   ]
  },
  {
   "cell_type": "code",
   "execution_count": 83,
   "id": "6c2116fc-a98d-45e4-88ab-82899527d55a",
   "metadata": {
    "scrolled": true
   },
   "outputs": [
    {
     "data": {
      "text/html": [
       "<div>\n",
       "<style scoped>\n",
       "    .dataframe tbody tr th:only-of-type {\n",
       "        vertical-align: middle;\n",
       "    }\n",
       "\n",
       "    .dataframe tbody tr th {\n",
       "        vertical-align: top;\n",
       "    }\n",
       "\n",
       "    .dataframe thead th {\n",
       "        text-align: right;\n",
       "    }\n",
       "</style>\n",
       "<table border=\"1\" class=\"dataframe\">\n",
       "  <thead>\n",
       "    <tr style=\"text-align: right;\">\n",
       "      <th></th>\n",
       "      <th>PassengerId</th>\n",
       "      <th>Survived</th>\n",
       "      <th>Pclass</th>\n",
       "      <th>Name</th>\n",
       "      <th>Sex</th>\n",
       "      <th>Age</th>\n",
       "      <th>SibSp</th>\n",
       "      <th>Parch</th>\n",
       "      <th>Ticket</th>\n",
       "      <th>Fare</th>\n",
       "      <th>Cabin</th>\n",
       "      <th>Embarked</th>\n",
       "    </tr>\n",
       "  </thead>\n",
       "  <tbody>\n",
       "    <tr>\n",
       "      <th>0</th>\n",
       "      <td>1</td>\n",
       "      <td>0</td>\n",
       "      <td>3</td>\n",
       "      <td>Braund, Mr. Owen Harris</td>\n",
       "      <td>male</td>\n",
       "      <td>22.0</td>\n",
       "      <td>1</td>\n",
       "      <td>0</td>\n",
       "      <td>A/5 21171</td>\n",
       "      <td>7.2500</td>\n",
       "      <td>NaN</td>\n",
       "      <td>S</td>\n",
       "    </tr>\n",
       "    <tr>\n",
       "      <th>1</th>\n",
       "      <td>2</td>\n",
       "      <td>1</td>\n",
       "      <td>1</td>\n",
       "      <td>Cumings, Mrs. John Bradley (Florence Briggs Th...</td>\n",
       "      <td>female</td>\n",
       "      <td>38.0</td>\n",
       "      <td>1</td>\n",
       "      <td>0</td>\n",
       "      <td>PC 17599</td>\n",
       "      <td>71.2833</td>\n",
       "      <td>C85</td>\n",
       "      <td>C</td>\n",
       "    </tr>\n",
       "    <tr>\n",
       "      <th>2</th>\n",
       "      <td>3</td>\n",
       "      <td>1</td>\n",
       "      <td>3</td>\n",
       "      <td>Heikkinen, Miss. Laina</td>\n",
       "      <td>female</td>\n",
       "      <td>26.0</td>\n",
       "      <td>0</td>\n",
       "      <td>0</td>\n",
       "      <td>STON/O2. 3101282</td>\n",
       "      <td>7.9250</td>\n",
       "      <td>NaN</td>\n",
       "      <td>S</td>\n",
       "    </tr>\n",
       "    <tr>\n",
       "      <th>3</th>\n",
       "      <td>4</td>\n",
       "      <td>1</td>\n",
       "      <td>1</td>\n",
       "      <td>Futrelle, Mrs. Jacques Heath (Lily May Peel)</td>\n",
       "      <td>female</td>\n",
       "      <td>35.0</td>\n",
       "      <td>1</td>\n",
       "      <td>0</td>\n",
       "      <td>113803</td>\n",
       "      <td>53.1000</td>\n",
       "      <td>C123</td>\n",
       "      <td>S</td>\n",
       "    </tr>\n",
       "    <tr>\n",
       "      <th>4</th>\n",
       "      <td>5</td>\n",
       "      <td>0</td>\n",
       "      <td>3</td>\n",
       "      <td>Allen, Mr. William Henry</td>\n",
       "      <td>male</td>\n",
       "      <td>35.0</td>\n",
       "      <td>0</td>\n",
       "      <td>0</td>\n",
       "      <td>373450</td>\n",
       "      <td>8.0500</td>\n",
       "      <td>NaN</td>\n",
       "      <td>S</td>\n",
       "    </tr>\n",
       "  </tbody>\n",
       "</table>\n",
       "</div>"
      ],
      "text/plain": [
       "   PassengerId  Survived  Pclass  \\\n",
       "0            1         0       3   \n",
       "1            2         1       1   \n",
       "2            3         1       3   \n",
       "3            4         1       1   \n",
       "4            5         0       3   \n",
       "\n",
       "                                                Name     Sex   Age  SibSp  \\\n",
       "0                            Braund, Mr. Owen Harris    male  22.0      1   \n",
       "1  Cumings, Mrs. John Bradley (Florence Briggs Th...  female  38.0      1   \n",
       "2                             Heikkinen, Miss. Laina  female  26.0      0   \n",
       "3       Futrelle, Mrs. Jacques Heath (Lily May Peel)  female  35.0      1   \n",
       "4                           Allen, Mr. William Henry    male  35.0      0   \n",
       "\n",
       "   Parch            Ticket     Fare Cabin Embarked  \n",
       "0      0         A/5 21171   7.2500   NaN        S  \n",
       "1      0          PC 17599  71.2833   C85        C  \n",
       "2      0  STON/O2. 3101282   7.9250   NaN        S  \n",
       "3      0            113803  53.1000  C123        S  \n",
       "4      0            373450   8.0500   NaN        S  "
      ]
     },
     "execution_count": 83,
     "metadata": {},
     "output_type": "execute_result"
    }
   ],
   "source": [
    "data = pd.read_csv('Titanic_train.csv')\n",
    "data.head()"
   ]
  },
  {
   "cell_type": "markdown",
   "id": "b544efce-7708-47c6-87f0-cca8c63fac58",
   "metadata": {},
   "source": [
    "# Explore and Clean Titanic Dataset: (EDA)"
   ]
  },
  {
   "cell_type": "code",
   "execution_count": 3,
   "id": "aee537af-a97e-4314-b169-d47a31bb4cd8",
   "metadata": {},
   "outputs": [
    {
     "data": {
      "text/plain": [
       "SibSp\n",
       "0    608\n",
       "1    209\n",
       "2     28\n",
       "4     18\n",
       "3     16\n",
       "8      7\n",
       "5      5\n",
       "Name: count, dtype: int64"
      ]
     },
     "execution_count": 3,
     "metadata": {},
     "output_type": "execute_result"
    }
   ],
   "source": [
    "data['SibSp'].value_counts()"
   ]
  },
  {
   "cell_type": "markdown",
   "id": "e41b3016-3b08-4d9e-b7a8-d74f167fb7e1",
   "metadata": {},
   "source": [
    "The distribution of the SibSp feature, which represents the number of siblings or spouses aboard. The majority of passengers had 0 siblings/spouses, followed by 1 sibling/spouse. Fewer passengers had 2, 3, 4, 5, or 8 siblings/spouses. So, i remove this column"
   ]
  },
  {
   "cell_type": "code",
   "execution_count": 4,
   "id": "67ea3b2e-c9c8-48dc-8bfc-61288fcd0b16",
   "metadata": {},
   "outputs": [
    {
     "data": {
      "text/plain": [
       "Parch\n",
       "0    678\n",
       "1    118\n",
       "2     80\n",
       "5      5\n",
       "3      5\n",
       "4      4\n",
       "6      1\n",
       "Name: count, dtype: int64"
      ]
     },
     "execution_count": 4,
     "metadata": {},
     "output_type": "execute_result"
    }
   ],
   "source": [
    "data['Parch'].value_counts()"
   ]
  },
  {
   "cell_type": "markdown",
   "id": "e84e1104-8277-4122-9bf3-365c00b0f249",
   "metadata": {},
   "source": [
    "The distribution of the Parch feature, indicating the number of parents or children aboard. Most passengers had 0 parents/children, with 1 parent/child being the next most common. Fewer passengers had 2, 3, 4, 5, or 6 parents/children. So, i remove this column"
   ]
  },
  {
   "cell_type": "code",
   "execution_count": 5,
   "id": "7b82f5c8-2eca-47fa-b2a1-d08f3f7c71e5",
   "metadata": {},
   "outputs": [
    {
     "data": {
      "text/plain": [
       "(891, 12)"
      ]
     },
     "execution_count": 5,
     "metadata": {},
     "output_type": "execute_result"
    }
   ],
   "source": [
    "data.shape"
   ]
  },
  {
   "cell_type": "code",
   "execution_count": 6,
   "id": "02643784-d192-459a-b98d-dd0ce35bf28f",
   "metadata": {},
   "outputs": [
    {
     "name": "stdout",
     "output_type": "stream",
     "text": [
      "<class 'pandas.core.frame.DataFrame'>\n",
      "RangeIndex: 891 entries, 0 to 890\n",
      "Data columns (total 12 columns):\n",
      " #   Column       Non-Null Count  Dtype  \n",
      "---  ------       --------------  -----  \n",
      " 0   PassengerId  891 non-null    int64  \n",
      " 1   Survived     891 non-null    int64  \n",
      " 2   Pclass       891 non-null    int64  \n",
      " 3   Name         891 non-null    object \n",
      " 4   Sex          891 non-null    object \n",
      " 5   Age          714 non-null    float64\n",
      " 6   SibSp        891 non-null    int64  \n",
      " 7   Parch        891 non-null    int64  \n",
      " 8   Ticket       891 non-null    object \n",
      " 9   Fare         891 non-null    float64\n",
      " 10  Cabin        204 non-null    object \n",
      " 11  Embarked     889 non-null    object \n",
      "dtypes: float64(2), int64(5), object(5)\n",
      "memory usage: 83.7+ KB\n"
     ]
    }
   ],
   "source": [
    "data.info()"
   ]
  },
  {
   "cell_type": "code",
   "execution_count": 8,
   "id": "efc65f88-3888-4c85-895a-62235c25f02a",
   "metadata": {},
   "outputs": [],
   "source": [
    "data.drop_duplicates(inplace=True) # Drop duplicate rows"
   ]
  },
  {
   "cell_type": "code",
   "execution_count": 9,
   "id": "20abe65b-c17f-4f3d-bd81-491d415e0eaf",
   "metadata": {},
   "outputs": [
    {
     "data": {
      "text/plain": [
       "681"
      ]
     },
     "execution_count": 9,
     "metadata": {},
     "output_type": "execute_result"
    }
   ],
   "source": [
    "len(data['Ticket'].unique()) # This column is not helpful from a prediction standpoint."
   ]
  },
  {
   "cell_type": "code",
   "execution_count": 10,
   "id": "b00131ad-e8a7-4de5-bf70-824b8bd6cab8",
   "metadata": {},
   "outputs": [],
   "source": [
    "data.drop(columns=['PassengerId','Cabin','Ticket','Name',\"SibSp\",\"Parch\"],inplace=True) # deop columns which are not helpful in prediction"
   ]
  },
  {
   "cell_type": "code",
   "execution_count": 11,
   "id": "257f172d-a7cf-44ff-8c4a-f7306a9e5494",
   "metadata": {},
   "outputs": [
    {
     "data": {
      "text/html": [
       "<div>\n",
       "<style scoped>\n",
       "    .dataframe tbody tr th:only-of-type {\n",
       "        vertical-align: middle;\n",
       "    }\n",
       "\n",
       "    .dataframe tbody tr th {\n",
       "        vertical-align: top;\n",
       "    }\n",
       "\n",
       "    .dataframe thead th {\n",
       "        text-align: right;\n",
       "    }\n",
       "</style>\n",
       "<table border=\"1\" class=\"dataframe\">\n",
       "  <thead>\n",
       "    <tr style=\"text-align: right;\">\n",
       "      <th></th>\n",
       "      <th>Survived</th>\n",
       "      <th>Pclass</th>\n",
       "      <th>Sex</th>\n",
       "      <th>Age</th>\n",
       "      <th>Fare</th>\n",
       "      <th>Embarked</th>\n",
       "    </tr>\n",
       "  </thead>\n",
       "  <tbody>\n",
       "    <tr>\n",
       "      <th>0</th>\n",
       "      <td>0</td>\n",
       "      <td>3</td>\n",
       "      <td>male</td>\n",
       "      <td>22.0</td>\n",
       "      <td>7.2500</td>\n",
       "      <td>S</td>\n",
       "    </tr>\n",
       "    <tr>\n",
       "      <th>1</th>\n",
       "      <td>1</td>\n",
       "      <td>1</td>\n",
       "      <td>female</td>\n",
       "      <td>38.0</td>\n",
       "      <td>71.2833</td>\n",
       "      <td>C</td>\n",
       "    </tr>\n",
       "    <tr>\n",
       "      <th>2</th>\n",
       "      <td>1</td>\n",
       "      <td>3</td>\n",
       "      <td>female</td>\n",
       "      <td>26.0</td>\n",
       "      <td>7.9250</td>\n",
       "      <td>S</td>\n",
       "    </tr>\n",
       "    <tr>\n",
       "      <th>3</th>\n",
       "      <td>1</td>\n",
       "      <td>1</td>\n",
       "      <td>female</td>\n",
       "      <td>35.0</td>\n",
       "      <td>53.1000</td>\n",
       "      <td>S</td>\n",
       "    </tr>\n",
       "    <tr>\n",
       "      <th>4</th>\n",
       "      <td>0</td>\n",
       "      <td>3</td>\n",
       "      <td>male</td>\n",
       "      <td>35.0</td>\n",
       "      <td>8.0500</td>\n",
       "      <td>S</td>\n",
       "    </tr>\n",
       "  </tbody>\n",
       "</table>\n",
       "</div>"
      ],
      "text/plain": [
       "   Survived  Pclass     Sex   Age     Fare Embarked\n",
       "0         0       3    male  22.0   7.2500        S\n",
       "1         1       1  female  38.0  71.2833        C\n",
       "2         1       3  female  26.0   7.9250        S\n",
       "3         1       1  female  35.0  53.1000        S\n",
       "4         0       3    male  35.0   8.0500        S"
      ]
     },
     "execution_count": 11,
     "metadata": {},
     "output_type": "execute_result"
    }
   ],
   "source": [
    "data.head()"
   ]
  },
  {
   "cell_type": "markdown",
   "id": "150fa631-b43a-46de-bc00-8356fae8ab9a",
   "metadata": {},
   "source": [
    "# Missing Values Handling"
   ]
  },
  {
   "cell_type": "code",
   "execution_count": 12,
   "id": "930efb0e-1af4-4b38-ac10-03e509841871",
   "metadata": {},
   "outputs": [
    {
     "name": "stdout",
     "output_type": "stream",
     "text": [
      "<class 'pandas.core.frame.DataFrame'>\n",
      "RangeIndex: 891 entries, 0 to 890\n",
      "Data columns (total 6 columns):\n",
      " #   Column    Non-Null Count  Dtype  \n",
      "---  ------    --------------  -----  \n",
      " 0   Survived  891 non-null    int64  \n",
      " 1   Pclass    891 non-null    int64  \n",
      " 2   Sex       891 non-null    object \n",
      " 3   Age       714 non-null    float64\n",
      " 4   Fare      891 non-null    float64\n",
      " 5   Embarked  889 non-null    object \n",
      "dtypes: float64(2), int64(2), object(2)\n",
      "memory usage: 41.9+ KB\n"
     ]
    }
   ],
   "source": [
    "data.info()"
   ]
  },
  {
   "cell_type": "code",
   "execution_count": 13,
   "id": "5c98dbd4-13e7-42ec-831e-02369c6fdbdf",
   "metadata": {},
   "outputs": [
    {
     "data": {
      "text/html": [
       "<div>\n",
       "<style scoped>\n",
       "    .dataframe tbody tr th:only-of-type {\n",
       "        vertical-align: middle;\n",
       "    }\n",
       "\n",
       "    .dataframe tbody tr th {\n",
       "        vertical-align: top;\n",
       "    }\n",
       "\n",
       "    .dataframe thead th {\n",
       "        text-align: right;\n",
       "    }\n",
       "</style>\n",
       "<table border=\"1\" class=\"dataframe\">\n",
       "  <thead>\n",
       "    <tr style=\"text-align: right;\">\n",
       "      <th></th>\n",
       "      <th>Survived</th>\n",
       "      <th>Pclass</th>\n",
       "      <th>Sex</th>\n",
       "      <th>Age</th>\n",
       "      <th>Fare</th>\n",
       "      <th>Embarked</th>\n",
       "    </tr>\n",
       "  </thead>\n",
       "  <tbody>\n",
       "    <tr>\n",
       "      <th>61</th>\n",
       "      <td>1</td>\n",
       "      <td>1</td>\n",
       "      <td>female</td>\n",
       "      <td>38.0</td>\n",
       "      <td>80.0</td>\n",
       "      <td>NaN</td>\n",
       "    </tr>\n",
       "    <tr>\n",
       "      <th>829</th>\n",
       "      <td>1</td>\n",
       "      <td>1</td>\n",
       "      <td>female</td>\n",
       "      <td>62.0</td>\n",
       "      <td>80.0</td>\n",
       "      <td>NaN</td>\n",
       "    </tr>\n",
       "  </tbody>\n",
       "</table>\n",
       "</div>"
      ],
      "text/plain": [
       "     Survived  Pclass     Sex   Age  Fare Embarked\n",
       "61          1       1  female  38.0  80.0      NaN\n",
       "829         1       1  female  62.0  80.0      NaN"
      ]
     },
     "execution_count": 13,
     "metadata": {},
     "output_type": "execute_result"
    }
   ],
   "source": [
    "data[data['Embarked'].isnull()]"
   ]
  },
  {
   "cell_type": "code",
   "execution_count": 14,
   "id": "c17dbf2e-758b-4498-953f-cdf6360cffbf",
   "metadata": {},
   "outputs": [
    {
     "data": {
      "text/html": [
       "<div>\n",
       "<style scoped>\n",
       "    .dataframe tbody tr th:only-of-type {\n",
       "        vertical-align: middle;\n",
       "    }\n",
       "\n",
       "    .dataframe tbody tr th {\n",
       "        vertical-align: top;\n",
       "    }\n",
       "\n",
       "    .dataframe thead th {\n",
       "        text-align: right;\n",
       "    }\n",
       "</style>\n",
       "<table border=\"1\" class=\"dataframe\">\n",
       "  <thead>\n",
       "    <tr style=\"text-align: right;\">\n",
       "      <th></th>\n",
       "      <th>Survived</th>\n",
       "      <th>Pclass</th>\n",
       "      <th>Sex</th>\n",
       "      <th>Age</th>\n",
       "      <th>Fare</th>\n",
       "      <th>Embarked</th>\n",
       "    </tr>\n",
       "  </thead>\n",
       "  <tbody>\n",
       "    <tr>\n",
       "      <th>27</th>\n",
       "      <td>0</td>\n",
       "      <td>1</td>\n",
       "      <td>male</td>\n",
       "      <td>19.0</td>\n",
       "      <td>263.0000</td>\n",
       "      <td>S</td>\n",
       "    </tr>\n",
       "    <tr>\n",
       "      <th>31</th>\n",
       "      <td>1</td>\n",
       "      <td>1</td>\n",
       "      <td>female</td>\n",
       "      <td>NaN</td>\n",
       "      <td>146.5208</td>\n",
       "      <td>C</td>\n",
       "    </tr>\n",
       "    <tr>\n",
       "      <th>34</th>\n",
       "      <td>0</td>\n",
       "      <td>1</td>\n",
       "      <td>male</td>\n",
       "      <td>28.0</td>\n",
       "      <td>82.1708</td>\n",
       "      <td>C</td>\n",
       "    </tr>\n",
       "    <tr>\n",
       "      <th>61</th>\n",
       "      <td>1</td>\n",
       "      <td>1</td>\n",
       "      <td>female</td>\n",
       "      <td>38.0</td>\n",
       "      <td>80.0000</td>\n",
       "      <td>NaN</td>\n",
       "    </tr>\n",
       "    <tr>\n",
       "      <th>62</th>\n",
       "      <td>0</td>\n",
       "      <td>1</td>\n",
       "      <td>male</td>\n",
       "      <td>45.0</td>\n",
       "      <td>83.4750</td>\n",
       "      <td>S</td>\n",
       "    </tr>\n",
       "    <tr>\n",
       "      <th>...</th>\n",
       "      <td>...</td>\n",
       "      <td>...</td>\n",
       "      <td>...</td>\n",
       "      <td>...</td>\n",
       "      <td>...</td>\n",
       "      <td>...</td>\n",
       "    </tr>\n",
       "    <tr>\n",
       "      <th>829</th>\n",
       "      <td>1</td>\n",
       "      <td>1</td>\n",
       "      <td>female</td>\n",
       "      <td>62.0</td>\n",
       "      <td>80.0000</td>\n",
       "      <td>NaN</td>\n",
       "    </tr>\n",
       "    <tr>\n",
       "      <th>835</th>\n",
       "      <td>1</td>\n",
       "      <td>1</td>\n",
       "      <td>female</td>\n",
       "      <td>39.0</td>\n",
       "      <td>83.1583</td>\n",
       "      <td>C</td>\n",
       "    </tr>\n",
       "    <tr>\n",
       "      <th>849</th>\n",
       "      <td>1</td>\n",
       "      <td>1</td>\n",
       "      <td>female</td>\n",
       "      <td>NaN</td>\n",
       "      <td>89.1042</td>\n",
       "      <td>C</td>\n",
       "    </tr>\n",
       "    <tr>\n",
       "      <th>856</th>\n",
       "      <td>1</td>\n",
       "      <td>1</td>\n",
       "      <td>female</td>\n",
       "      <td>45.0</td>\n",
       "      <td>164.8667</td>\n",
       "      <td>S</td>\n",
       "    </tr>\n",
       "    <tr>\n",
       "      <th>879</th>\n",
       "      <td>1</td>\n",
       "      <td>1</td>\n",
       "      <td>female</td>\n",
       "      <td>56.0</td>\n",
       "      <td>83.1583</td>\n",
       "      <td>C</td>\n",
       "    </tr>\n",
       "  </tbody>\n",
       "</table>\n",
       "<p>76 rows × 6 columns</p>\n",
       "</div>"
      ],
      "text/plain": [
       "     Survived  Pclass     Sex   Age      Fare Embarked\n",
       "27          0       1    male  19.0  263.0000        S\n",
       "31          1       1  female   NaN  146.5208        C\n",
       "34          0       1    male  28.0   82.1708        C\n",
       "61          1       1  female  38.0   80.0000      NaN\n",
       "62          0       1    male  45.0   83.4750        S\n",
       "..        ...     ...     ...   ...       ...      ...\n",
       "829         1       1  female  62.0   80.0000      NaN\n",
       "835         1       1  female  39.0   83.1583        C\n",
       "849         1       1  female   NaN   89.1042        C\n",
       "856         1       1  female  45.0  164.8667        S\n",
       "879         1       1  female  56.0   83.1583        C\n",
       "\n",
       "[76 rows x 6 columns]"
      ]
     },
     "execution_count": 14,
     "metadata": {},
     "output_type": "execute_result"
    }
   ],
   "source": [
    "data[data['Fare'] >= 80]"
   ]
  },
  {
   "cell_type": "markdown",
   "id": "350985db-96ff-4528-94bd-d36775213bd1",
   "metadata": {},
   "source": [
    "Fills missing values in the Embarked column by propagating the next valid value backward."
   ]
  },
  {
   "cell_type": "code",
   "execution_count": 15,
   "id": "35432396-19a1-4620-b926-26772d8d8cd5",
   "metadata": {},
   "outputs": [],
   "source": [
    "data['Embarked'] = data['Embarked'].bfill()"
   ]
  },
  {
   "cell_type": "code",
   "execution_count": 16,
   "id": "ed501d2e-fab0-458a-865f-7cb78b217b00",
   "metadata": {},
   "outputs": [
    {
     "data": {
      "text/html": [
       "<div>\n",
       "<style scoped>\n",
       "    .dataframe tbody tr th:only-of-type {\n",
       "        vertical-align: middle;\n",
       "    }\n",
       "\n",
       "    .dataframe tbody tr th {\n",
       "        vertical-align: top;\n",
       "    }\n",
       "\n",
       "    .dataframe thead th {\n",
       "        text-align: right;\n",
       "    }\n",
       "</style>\n",
       "<table border=\"1\" class=\"dataframe\">\n",
       "  <thead>\n",
       "    <tr style=\"text-align: right;\">\n",
       "      <th></th>\n",
       "      <th>Survived</th>\n",
       "      <th>Pclass</th>\n",
       "      <th>Sex</th>\n",
       "      <th>Age</th>\n",
       "      <th>Fare</th>\n",
       "      <th>Embarked</th>\n",
       "    </tr>\n",
       "  </thead>\n",
       "  <tbody>\n",
       "    <tr>\n",
       "      <th>5</th>\n",
       "      <td>0</td>\n",
       "      <td>3</td>\n",
       "      <td>male</td>\n",
       "      <td>NaN</td>\n",
       "      <td>8.4583</td>\n",
       "      <td>Q</td>\n",
       "    </tr>\n",
       "    <tr>\n",
       "      <th>17</th>\n",
       "      <td>1</td>\n",
       "      <td>2</td>\n",
       "      <td>male</td>\n",
       "      <td>NaN</td>\n",
       "      <td>13.0000</td>\n",
       "      <td>S</td>\n",
       "    </tr>\n",
       "    <tr>\n",
       "      <th>19</th>\n",
       "      <td>1</td>\n",
       "      <td>3</td>\n",
       "      <td>female</td>\n",
       "      <td>NaN</td>\n",
       "      <td>7.2250</td>\n",
       "      <td>C</td>\n",
       "    </tr>\n",
       "    <tr>\n",
       "      <th>26</th>\n",
       "      <td>0</td>\n",
       "      <td>3</td>\n",
       "      <td>male</td>\n",
       "      <td>NaN</td>\n",
       "      <td>7.2250</td>\n",
       "      <td>C</td>\n",
       "    </tr>\n",
       "    <tr>\n",
       "      <th>28</th>\n",
       "      <td>1</td>\n",
       "      <td>3</td>\n",
       "      <td>female</td>\n",
       "      <td>NaN</td>\n",
       "      <td>7.8792</td>\n",
       "      <td>Q</td>\n",
       "    </tr>\n",
       "    <tr>\n",
       "      <th>...</th>\n",
       "      <td>...</td>\n",
       "      <td>...</td>\n",
       "      <td>...</td>\n",
       "      <td>...</td>\n",
       "      <td>...</td>\n",
       "      <td>...</td>\n",
       "    </tr>\n",
       "    <tr>\n",
       "      <th>859</th>\n",
       "      <td>0</td>\n",
       "      <td>3</td>\n",
       "      <td>male</td>\n",
       "      <td>NaN</td>\n",
       "      <td>7.2292</td>\n",
       "      <td>C</td>\n",
       "    </tr>\n",
       "    <tr>\n",
       "      <th>863</th>\n",
       "      <td>0</td>\n",
       "      <td>3</td>\n",
       "      <td>female</td>\n",
       "      <td>NaN</td>\n",
       "      <td>69.5500</td>\n",
       "      <td>S</td>\n",
       "    </tr>\n",
       "    <tr>\n",
       "      <th>868</th>\n",
       "      <td>0</td>\n",
       "      <td>3</td>\n",
       "      <td>male</td>\n",
       "      <td>NaN</td>\n",
       "      <td>9.5000</td>\n",
       "      <td>S</td>\n",
       "    </tr>\n",
       "    <tr>\n",
       "      <th>878</th>\n",
       "      <td>0</td>\n",
       "      <td>3</td>\n",
       "      <td>male</td>\n",
       "      <td>NaN</td>\n",
       "      <td>7.8958</td>\n",
       "      <td>S</td>\n",
       "    </tr>\n",
       "    <tr>\n",
       "      <th>888</th>\n",
       "      <td>0</td>\n",
       "      <td>3</td>\n",
       "      <td>female</td>\n",
       "      <td>NaN</td>\n",
       "      <td>23.4500</td>\n",
       "      <td>S</td>\n",
       "    </tr>\n",
       "  </tbody>\n",
       "</table>\n",
       "<p>177 rows × 6 columns</p>\n",
       "</div>"
      ],
      "text/plain": [
       "     Survived  Pclass     Sex  Age     Fare Embarked\n",
       "5           0       3    male  NaN   8.4583        Q\n",
       "17          1       2    male  NaN  13.0000        S\n",
       "19          1       3  female  NaN   7.2250        C\n",
       "26          0       3    male  NaN   7.2250        C\n",
       "28          1       3  female  NaN   7.8792        Q\n",
       "..        ...     ...     ...  ...      ...      ...\n",
       "859         0       3    male  NaN   7.2292        C\n",
       "863         0       3  female  NaN  69.5500        S\n",
       "868         0       3    male  NaN   9.5000        S\n",
       "878         0       3    male  NaN   7.8958        S\n",
       "888         0       3  female  NaN  23.4500        S\n",
       "\n",
       "[177 rows x 6 columns]"
      ]
     },
     "execution_count": 16,
     "metadata": {},
     "output_type": "execute_result"
    }
   ],
   "source": [
    "data[data['Age'].isnull()]"
   ]
  },
  {
   "cell_type": "code",
   "execution_count": 17,
   "id": "117fea50-a72a-4f25-b8b1-8a40fcce4c33",
   "metadata": {},
   "outputs": [
    {
     "data": {
      "text/plain": [
       "(array([ 54.,  46., 177., 169., 118.,  70.,  45.,  24.,   9.,   2.]),\n",
       " array([ 0.42 ,  8.378, 16.336, 24.294, 32.252, 40.21 , 48.168, 56.126,\n",
       "        64.084, 72.042, 80.   ]),\n",
       " <BarContainer object of 10 artists>)"
      ]
     },
     "execution_count": 17,
     "metadata": {},
     "output_type": "execute_result"
    },
    {
     "data": {
      "image/png": "[encoded data removed]",
      "text/plain": [
       "<Figure size 640x480 with 1 Axes>"
      ]
     },
     "metadata": {},
     "output_type": "display_data"
    }
   ],
   "source": [
    "plt.hist(data['Age'])"
   ]
  },
  {
   "cell_type": "code",
   "execution_count": 18,
   "id": "0a675e56-2ad1-4a00-a706-793864417250",
   "metadata": {},
   "outputs": [
    {
     "data": {
      "text/plain": [
       "<Axes: xlabel='Survived', ylabel='Age'>"
      ]
     },
     "execution_count": 18,
     "metadata": {},
     "output_type": "execute_result"
    },
    {
     "data": {
      "image/png": "[encoded data removed]",
      "text/plain": [
       "<Figure size 640x480 with 1 Axes>"
      ]
     },
     "metadata": {},
     "output_type": "display_data"
    }
   ],
   "source": [
    "sns.boxplot(x=data['Survived'],y=data['Age'])"
   ]
  },
  {
   "cell_type": "code",
   "execution_count": 19,
   "id": "8ea08dc3-4998-4b8f-8d2a-2b1c162cc6a0",
   "metadata": {},
   "outputs": [],
   "source": [
    "data.dropna(inplace=True)"
   ]
  },
  {
   "cell_type": "markdown",
   "id": "1b6f5d86-c3e4-4f7a-aaa7-300443c15b39",
   "metadata": {},
   "source": [
    "# Data Type Optimization"
   ]
  },
  {
   "cell_type": "code",
   "execution_count": 20,
   "id": "d3bfbdfa-af5f-47ee-ae60-937c7b1e5654",
   "metadata": {},
   "outputs": [],
   "source": [
    "data['Survived'] = data['Survived'].astype('int8')\n",
    "data['Pclass'] = data['Pclass'].astype('int8')\n",
    "data['Age'] = data['Age'].astype('int8')\n",
    "data['Fare'] = data['Fare'].astype('int32')"
   ]
  },
  {
   "cell_type": "code",
   "execution_count": 21,
   "id": "788f49e4-d5ac-4c31-92ee-d0566326ec07",
   "metadata": {},
   "outputs": [
    {
     "name": "stdout",
     "output_type": "stream",
     "text": [
      "<class 'pandas.core.frame.DataFrame'>\n",
      "Index: 714 entries, 0 to 890\n",
      "Data columns (total 6 columns):\n",
      " #   Column    Non-Null Count  Dtype \n",
      "---  ------    --------------  ----- \n",
      " 0   Survived  714 non-null    int8  \n",
      " 1   Pclass    714 non-null    int8  \n",
      " 2   Sex       714 non-null    object\n",
      " 3   Age       714 non-null    int8  \n",
      " 4   Fare      714 non-null    int32 \n",
      " 5   Embarked  714 non-null    object\n",
      "dtypes: int32(1), int8(3), object(2)\n",
      "memory usage: 21.6+ KB\n"
     ]
    }
   ],
   "source": [
    "data.info()"
   ]
  },
  {
   "cell_type": "markdown",
   "id": "9aa19f15-c419-44a7-b002-e0525edf9ab3",
   "metadata": {},
   "source": [
    "# Visualizations and Insights"
   ]
  },
  {
   "cell_type": "code",
   "execution_count": 22,
   "id": "576c669b-d6c3-4090-ad4d-a51d38980b6c",
   "metadata": {},
   "outputs": [
    {
     "data": {
      "text/html": [
       "<div>\n",
       "<style scoped>\n",
       "    .dataframe tbody tr th:only-of-type {\n",
       "        vertical-align: middle;\n",
       "    }\n",
       "\n",
       "    .dataframe tbody tr th {\n",
       "        vertical-align: top;\n",
       "    }\n",
       "\n",
       "    .dataframe thead th {\n",
       "        text-align: right;\n",
       "    }\n",
       "</style>\n",
       "<table border=\"1\" class=\"dataframe\">\n",
       "  <thead>\n",
       "    <tr style=\"text-align: right;\">\n",
       "      <th></th>\n",
       "      <th>Survived</th>\n",
       "      <th>Pclass</th>\n",
       "      <th>Sex</th>\n",
       "      <th>Age</th>\n",
       "      <th>Fare</th>\n",
       "      <th>Embarked</th>\n",
       "    </tr>\n",
       "  </thead>\n",
       "  <tbody>\n",
       "    <tr>\n",
       "      <th>0</th>\n",
       "      <td>0</td>\n",
       "      <td>3</td>\n",
       "      <td>male</td>\n",
       "      <td>22</td>\n",
       "      <td>7</td>\n",
       "      <td>S</td>\n",
       "    </tr>\n",
       "    <tr>\n",
       "      <th>1</th>\n",
       "      <td>1</td>\n",
       "      <td>1</td>\n",
       "      <td>female</td>\n",
       "      <td>38</td>\n",
       "      <td>71</td>\n",
       "      <td>C</td>\n",
       "    </tr>\n",
       "    <tr>\n",
       "      <th>2</th>\n",
       "      <td>1</td>\n",
       "      <td>3</td>\n",
       "      <td>female</td>\n",
       "      <td>26</td>\n",
       "      <td>7</td>\n",
       "      <td>S</td>\n",
       "    </tr>\n",
       "    <tr>\n",
       "      <th>3</th>\n",
       "      <td>1</td>\n",
       "      <td>1</td>\n",
       "      <td>female</td>\n",
       "      <td>35</td>\n",
       "      <td>53</td>\n",
       "      <td>S</td>\n",
       "    </tr>\n",
       "    <tr>\n",
       "      <th>4</th>\n",
       "      <td>0</td>\n",
       "      <td>3</td>\n",
       "      <td>male</td>\n",
       "      <td>35</td>\n",
       "      <td>8</td>\n",
       "      <td>S</td>\n",
       "    </tr>\n",
       "  </tbody>\n",
       "</table>\n",
       "</div>"
      ],
      "text/plain": [
       "   Survived  Pclass     Sex  Age  Fare Embarked\n",
       "0         0       3    male   22     7        S\n",
       "1         1       1  female   38    71        C\n",
       "2         1       3  female   26     7        S\n",
       "3         1       1  female   35    53        S\n",
       "4         0       3    male   35     8        S"
      ]
     },
     "execution_count": 22,
     "metadata": {},
     "output_type": "execute_result"
    }
   ],
   "source": [
    "data.head()"
   ]
  },
  {
   "cell_type": "code",
   "execution_count": 23,
   "id": "59a9b448-d1cc-4bd4-be05-e4cdefaf2a60",
   "metadata": {},
   "outputs": [
    {
     "data": {
      "image/png": "[encoded data removed]",
      "text/plain": [
       "<Figure size 640x480 with 1 Axes>"
      ]
     },
     "metadata": {},
     "output_type": "display_data"
    }
   ],
   "source": [
    "plt.bar(data['Sex'].value_counts().index, data['Sex'].value_counts().values)\n",
    "\n",
    "plt.xlabel('Sex')\n",
    "plt.ylabel('Count')\n",
    "plt.title('Distribution of Sex')\n",
    "\n",
    "plt.show()\n"
   ]
  },
  {
   "cell_type": "code",
   "execution_count": 24,
   "id": "9c7be926-40da-4bcf-ba97-cb4d6083fbb2",
   "metadata": {},
   "outputs": [
    {
     "data": {
      "image/png": "[encoded data removed]",
      "text/plain": [
       "<Figure size 640x480 with 1 Axes>"
      ]
     },
     "metadata": {},
     "output_type": "display_data"
    }
   ],
   "source": [
    "plt.bar(data['Pclass'].value_counts().index,data['Pclass'].value_counts().values)\n",
    "plt.xlabel('Pclass')\n",
    "plt.ylabel('Count')\n",
    "plt.title('Distribution of Pclass')\n",
    "plt.show()"
   ]
  },
  {
   "cell_type": "code",
   "execution_count": 25,
   "id": "376cc841-4d0c-4f63-91d2-98c41111c633",
   "metadata": {},
   "outputs": [
    {
     "data": {
      "image/png": "[encoded data removed]",
      "text/plain": [
       "<Figure size 1000x600 with 1 Axes>"
      ]
     },
     "metadata": {},
     "output_type": "display_data"
    }
   ],
   "source": [
    "plt.figure(figsize=(10, 6))\n",
    "sns.boxplot(x='Survived', y='Age', data=data)\n",
    "plt.title('Age Distribution by Survival Status')\n",
    "plt.xlabel('Survived')\n",
    "plt.ylabel('Age')\n",
    "plt.xticks([0, 1], ['Not Survived', 'Survived'])\n",
    "plt.show()"
   ]
  },
  {
   "cell_type": "code",
   "execution_count": 26,
   "id": "541c9587-0df4-40f3-b50a-9c8fe8e521a6",
   "metadata": {},
   "outputs": [
    {
     "data": {
      "image/png": "[encoded data removed]",
      "text/plain": [
       "<Figure size 1000x600 with 1 Axes>"
      ]
     },
     "metadata": {},
     "output_type": "display_data"
    }
   ],
   "source": [
    "plt.figure(figsize=(10, 6))\n",
    "sns.countplot(x='Pclass', hue='Survived', data=data)\n",
    "plt.title('Survival Count by Passenger Class')\n",
    "plt.xlabel('Passenger Class')\n",
    "plt.ylabel('Count')\n",
    "plt.legend(title='Survived', labels=['Not Survived', 'Survived'])\n",
    "plt.show()"
   ]
  },
  {
   "cell_type": "markdown",
   "id": "f397255b-aa03-4719-b66c-c6701f2b7bd5",
   "metadata": {},
   "source": [
    "# Label Encoding for Categorical Data"
   ]
  },
  {
   "cell_type": "code",
   "execution_count": 27,
   "id": "2bd7fde6-2c44-4f74-b995-c1efec5c9197",
   "metadata": {},
   "outputs": [
    {
     "data": {
      "text/html": [
       "<div>\n",
       "<style scoped>\n",
       "    .dataframe tbody tr th:only-of-type {\n",
       "        vertical-align: middle;\n",
       "    }\n",
       "\n",
       "    .dataframe tbody tr th {\n",
       "        vertical-align: top;\n",
       "    }\n",
       "\n",
       "    .dataframe thead th {\n",
       "        text-align: right;\n",
       "    }\n",
       "</style>\n",
       "<table border=\"1\" class=\"dataframe\">\n",
       "  <thead>\n",
       "    <tr style=\"text-align: right;\">\n",
       "      <th></th>\n",
       "      <th>Survived</th>\n",
       "      <th>Pclass</th>\n",
       "      <th>Sex</th>\n",
       "      <th>Age</th>\n",
       "      <th>Fare</th>\n",
       "      <th>Embarked</th>\n",
       "    </tr>\n",
       "  </thead>\n",
       "  <tbody>\n",
       "    <tr>\n",
       "      <th>0</th>\n",
       "      <td>0</td>\n",
       "      <td>3</td>\n",
       "      <td>1</td>\n",
       "      <td>22</td>\n",
       "      <td>7</td>\n",
       "      <td>S</td>\n",
       "    </tr>\n",
       "    <tr>\n",
       "      <th>1</th>\n",
       "      <td>1</td>\n",
       "      <td>1</td>\n",
       "      <td>0</td>\n",
       "      <td>38</td>\n",
       "      <td>71</td>\n",
       "      <td>C</td>\n",
       "    </tr>\n",
       "    <tr>\n",
       "      <th>2</th>\n",
       "      <td>1</td>\n",
       "      <td>3</td>\n",
       "      <td>0</td>\n",
       "      <td>26</td>\n",
       "      <td>7</td>\n",
       "      <td>S</td>\n",
       "    </tr>\n",
       "    <tr>\n",
       "      <th>3</th>\n",
       "      <td>1</td>\n",
       "      <td>1</td>\n",
       "      <td>0</td>\n",
       "      <td>35</td>\n",
       "      <td>53</td>\n",
       "      <td>S</td>\n",
       "    </tr>\n",
       "    <tr>\n",
       "      <th>4</th>\n",
       "      <td>0</td>\n",
       "      <td>3</td>\n",
       "      <td>1</td>\n",
       "      <td>35</td>\n",
       "      <td>8</td>\n",
       "      <td>S</td>\n",
       "    </tr>\n",
       "  </tbody>\n",
       "</table>\n",
       "</div>"
      ],
      "text/plain": [
       "   Survived  Pclass  Sex  Age  Fare Embarked\n",
       "0         0       3    1   22     7        S\n",
       "1         1       1    0   38    71        C\n",
       "2         1       3    0   26     7        S\n",
       "3         1       1    0   35    53        S\n",
       "4         0       3    1   35     8        S"
      ]
     },
     "execution_count": 27,
     "metadata": {},
     "output_type": "execute_result"
    }
   ],
   "source": [
    "label = LabelEncoder()\n",
    "data['Sex'] = label.fit_transform(data['Sex'])\n",
    "data.head()"
   ]
  },
  {
   "cell_type": "markdown",
   "id": "6d3be471-98ad-4240-93a0-e160ff630b3e",
   "metadata": {},
   "source": [
    "# One-Hot Encoding for Categorical Data"
   ]
  },
  {
   "cell_type": "code",
   "execution_count": 28,
   "id": "4b8b9a54-19d8-44c5-9070-04f69cab8876",
   "metadata": {},
   "outputs": [
    {
     "data": {
      "text/html": [
       "<div>\n",
       "<style scoped>\n",
       "    .dataframe tbody tr th:only-of-type {\n",
       "        vertical-align: middle;\n",
       "    }\n",
       "\n",
       "    .dataframe tbody tr th {\n",
       "        vertical-align: top;\n",
       "    }\n",
       "\n",
       "    .dataframe thead th {\n",
       "        text-align: right;\n",
       "    }\n",
       "</style>\n",
       "<table border=\"1\" class=\"dataframe\">\n",
       "  <thead>\n",
       "    <tr style=\"text-align: right;\">\n",
       "      <th></th>\n",
       "      <th>Survived</th>\n",
       "      <th>Pclass</th>\n",
       "      <th>Sex</th>\n",
       "      <th>Age</th>\n",
       "      <th>Fare</th>\n",
       "      <th>Embarked_C</th>\n",
       "      <th>Embarked_Q</th>\n",
       "      <th>Embarked_S</th>\n",
       "    </tr>\n",
       "  </thead>\n",
       "  <tbody>\n",
       "    <tr>\n",
       "      <th>0</th>\n",
       "      <td>0</td>\n",
       "      <td>3</td>\n",
       "      <td>1</td>\n",
       "      <td>22</td>\n",
       "      <td>7</td>\n",
       "      <td>False</td>\n",
       "      <td>False</td>\n",
       "      <td>True</td>\n",
       "    </tr>\n",
       "    <tr>\n",
       "      <th>1</th>\n",
       "      <td>1</td>\n",
       "      <td>1</td>\n",
       "      <td>0</td>\n",
       "      <td>38</td>\n",
       "      <td>71</td>\n",
       "      <td>True</td>\n",
       "      <td>False</td>\n",
       "      <td>False</td>\n",
       "    </tr>\n",
       "    <tr>\n",
       "      <th>2</th>\n",
       "      <td>1</td>\n",
       "      <td>3</td>\n",
       "      <td>0</td>\n",
       "      <td>26</td>\n",
       "      <td>7</td>\n",
       "      <td>False</td>\n",
       "      <td>False</td>\n",
       "      <td>True</td>\n",
       "    </tr>\n",
       "    <tr>\n",
       "      <th>3</th>\n",
       "      <td>1</td>\n",
       "      <td>1</td>\n",
       "      <td>0</td>\n",
       "      <td>35</td>\n",
       "      <td>53</td>\n",
       "      <td>False</td>\n",
       "      <td>False</td>\n",
       "      <td>True</td>\n",
       "    </tr>\n",
       "    <tr>\n",
       "      <th>4</th>\n",
       "      <td>0</td>\n",
       "      <td>3</td>\n",
       "      <td>1</td>\n",
       "      <td>35</td>\n",
       "      <td>8</td>\n",
       "      <td>False</td>\n",
       "      <td>False</td>\n",
       "      <td>True</td>\n",
       "    </tr>\n",
       "  </tbody>\n",
       "</table>\n",
       "</div>"
      ],
      "text/plain": [
       "   Survived  Pclass  Sex  Age  Fare  Embarked_C  Embarked_Q  Embarked_S\n",
       "0         0       3    1   22     7       False       False        True\n",
       "1         1       1    0   38    71        True       False       False\n",
       "2         1       3    0   26     7       False       False        True\n",
       "3         1       1    0   35    53       False       False        True\n",
       "4         0       3    1   35     8       False       False        True"
      ]
     },
     "execution_count": 28,
     "metadata": {},
     "output_type": "execute_result"
    }
   ],
   "source": [
    "data = pd.get_dummies(data,columns=['Embarked']) \n",
    "data.head()"
   ]
  },
  {
   "cell_type": "code",
   "execution_count": 29,
   "id": "b1bd7c6e-4d24-4dff-bbff-9dcb379b347f",
   "metadata": {},
   "outputs": [],
   "source": [
    "data['Embarked_C'] = data['Embarked_C'].astype('int8')\n",
    "data['Embarked_Q'] = data['Embarked_Q'].astype('int8')\n",
    "data['Embarked_S'] = data['Embarked_S'].astype('int8')"
   ]
  },
  {
   "cell_type": "code",
   "execution_count": 30,
   "id": "3d201da0-a6c4-4a07-8a41-648d0a3a1dee",
   "metadata": {},
   "outputs": [
    {
     "data": {
      "text/html": [
       "<div>\n",
       "<style scoped>\n",
       "    .dataframe tbody tr th:only-of-type {\n",
       "        vertical-align: middle;\n",
       "    }\n",
       "\n",
       "    .dataframe tbody tr th {\n",
       "        vertical-align: top;\n",
       "    }\n",
       "\n",
       "    .dataframe thead th {\n",
       "        text-align: right;\n",
       "    }\n",
       "</style>\n",
       "<table border=\"1\" class=\"dataframe\">\n",
       "  <thead>\n",
       "    <tr style=\"text-align: right;\">\n",
       "      <th></th>\n",
       "      <th>Survived</th>\n",
       "      <th>Pclass</th>\n",
       "      <th>Sex</th>\n",
       "      <th>Age</th>\n",
       "      <th>Fare</th>\n",
       "      <th>Embarked_C</th>\n",
       "      <th>Embarked_Q</th>\n",
       "      <th>Embarked_S</th>\n",
       "    </tr>\n",
       "  </thead>\n",
       "  <tbody>\n",
       "    <tr>\n",
       "      <th>0</th>\n",
       "      <td>0</td>\n",
       "      <td>3</td>\n",
       "      <td>1</td>\n",
       "      <td>22</td>\n",
       "      <td>7</td>\n",
       "      <td>0</td>\n",
       "      <td>0</td>\n",
       "      <td>1</td>\n",
       "    </tr>\n",
       "    <tr>\n",
       "      <th>1</th>\n",
       "      <td>1</td>\n",
       "      <td>1</td>\n",
       "      <td>0</td>\n",
       "      <td>38</td>\n",
       "      <td>71</td>\n",
       "      <td>1</td>\n",
       "      <td>0</td>\n",
       "      <td>0</td>\n",
       "    </tr>\n",
       "    <tr>\n",
       "      <th>2</th>\n",
       "      <td>1</td>\n",
       "      <td>3</td>\n",
       "      <td>0</td>\n",
       "      <td>26</td>\n",
       "      <td>7</td>\n",
       "      <td>0</td>\n",
       "      <td>0</td>\n",
       "      <td>1</td>\n",
       "    </tr>\n",
       "    <tr>\n",
       "      <th>3</th>\n",
       "      <td>1</td>\n",
       "      <td>1</td>\n",
       "      <td>0</td>\n",
       "      <td>35</td>\n",
       "      <td>53</td>\n",
       "      <td>0</td>\n",
       "      <td>0</td>\n",
       "      <td>1</td>\n",
       "    </tr>\n",
       "    <tr>\n",
       "      <th>4</th>\n",
       "      <td>0</td>\n",
       "      <td>3</td>\n",
       "      <td>1</td>\n",
       "      <td>35</td>\n",
       "      <td>8</td>\n",
       "      <td>0</td>\n",
       "      <td>0</td>\n",
       "      <td>1</td>\n",
       "    </tr>\n",
       "  </tbody>\n",
       "</table>\n",
       "</div>"
      ],
      "text/plain": [
       "   Survived  Pclass  Sex  Age  Fare  Embarked_C  Embarked_Q  Embarked_S\n",
       "0         0       3    1   22     7           0           0           1\n",
       "1         1       1    0   38    71           1           0           0\n",
       "2         1       3    0   26     7           0           0           1\n",
       "3         1       1    0   35    53           0           0           1\n",
       "4         0       3    1   35     8           0           0           1"
      ]
     },
     "execution_count": 30,
     "metadata": {},
     "output_type": "execute_result"
    }
   ],
   "source": [
    "data.head()"
   ]
  },
  {
   "cell_type": "markdown",
   "id": "53bc75fb-0036-42be-922c-8ec6497ea706",
   "metadata": {},
   "source": [
    "# Feature Scaling and Preparation Training data"
   ]
  },
  {
   "cell_type": "code",
   "execution_count": 53,
   "id": "93ec2505-28f8-4391-a04b-fc54612a85ab",
   "metadata": {},
   "outputs": [],
   "source": [
    "X = data.drop(columns='Survived')\n",
    "y =  data['Survived']\n",
    "X_train,X_test,y_train,y_test = train_test_split(X,y,test_size=0.2,random_state=42)"
   ]
  },
  {
   "cell_type": "code",
   "execution_count": 54,
   "id": "03e7f200-e3fd-4535-af41-710780a49ab8",
   "metadata": {},
   "outputs": [],
   "source": [
    "scaler = StandardScaler()\n",
    "scaler.fit_transform(X_train)\n",
    "with open('scaler.pkl', 'wb') as f:\n",
    "    pickle.dump(scaler, f)"
   ]
  },
  {
   "cell_type": "code",
   "execution_count": 56,
   "id": "d8210f5f-b562-4a88-b8f8-01560244d3d6",
   "metadata": {},
   "outputs": [],
   "source": [
    "X_train = scaler.fit_transform(X_train)\n",
    "X_test = scaler.transform(X_test)"
   ]
  },
  {
   "cell_type": "markdown",
   "id": "e5e7e3f6-0ad4-4634-9173-372191d164c5",
   "metadata": {},
   "source": [
    "# Model Implementation"
   ]
  },
  {
   "cell_type": "markdown",
   "id": "fb643698-66ac-4751-b9b5-f7622ca93bc6",
   "metadata": {},
   "source": [
    "## Function to Train a Logistic Regression Model"
   ]
  },
  {
   "cell_type": "code",
   "execution_count": 57,
   "id": "79dcb216-d29f-4706-91b3-07b62c1c04e4",
   "metadata": {},
   "outputs": [],
   "source": [
    "def logistic_regression(X_train,y_train, **kwargs):\n",
    "    model = LogisticRegression(**kwargs)\n",
    "    y_train = y_train.ravel()\n",
    "    model.fit(X_train, y_train)\n",
    "    return model"
   ]
  },
  {
   "cell_type": "code",
   "execution_count": 58,
   "id": "dcd808e2-e874-4c97-94eb-e7da07cdbbed",
   "metadata": {},
   "outputs": [
    {
     "name": "stderr",
     "output_type": "stream",
     "text": [
      "C:\\Users\\Admin\\AppData\\Local\\Temp\\ipykernel_8592\\2491486511.py:3: FutureWarning: Series.ravel is deprecated. The underlying array is already 1D, so ravel is not necessary.  Use `to_numpy()` for conversion to a numpy array instead.\n",
      "  y_train = y_train.ravel()\n"
     ]
    }
   ],
   "source": [
    "model = logistic_regression(X_train, y_train)"
   ]
  },
  {
   "cell_type": "code",
   "execution_count": 59,
   "id": "853d7dfa-dee2-4aa5-90f0-a2d683525e56",
   "metadata": {},
   "outputs": [],
   "source": [
    "y_predictions = model.predict(X_test)"
   ]
  },
  {
   "cell_type": "code",
   "execution_count": 60,
   "id": "53cba0fa-aa38-4506-8a20-7b5d187dcdd1",
   "metadata": {},
   "outputs": [
    {
     "name": "stdout",
     "output_type": "stream",
     "text": [
      "              precision    recall  f1-score   support\n",
      "\n",
      "           0       0.78      0.79      0.79        87\n",
      "           1       0.67      0.66      0.67        56\n",
      "\n",
      "    accuracy                           0.74       143\n",
      "   macro avg       0.73      0.73      0.73       143\n",
      "weighted avg       0.74      0.74      0.74       143\n",
      "\n"
     ]
    }
   ],
   "source": [
    "print(classification_report(y_test,y_predictions))"
   ]
  },
  {
   "cell_type": "code",
   "execution_count": 61,
   "id": "ccfecc7e-1825-4c87-84f2-a628c33ee57f",
   "metadata": {},
   "outputs": [
    {
     "data": {
      "text/plain": [
       "array([[69, 18],\n",
       "       [19, 37]], dtype=int64)"
      ]
     },
     "execution_count": 61,
     "metadata": {},
     "output_type": "execute_result"
    }
   ],
   "source": [
    "cm = confusion_matrix(y_test,y_predictions)\n",
    "cm"
   ]
  },
  {
   "cell_type": "code",
   "execution_count": 62,
   "id": "b38849d0-8331-431f-9f38-0b8ad07aa455",
   "metadata": {},
   "outputs": [
    {
     "data": {
      "image/png": "[encoded data removed]",
      "text/plain": [
       "<Figure size 800x600 with 2 Axes>"
      ]
     },
     "metadata": {},
     "output_type": "display_data"
    }
   ],
   "source": [
    "plt.figure(figsize=(8, 6))\n",
    "sns.heatmap(cm, annot=True, fmt='d', cmap='Blues', \n",
    "            xticklabels=['Class 0', 'Class 1'], \n",
    "            yticklabels=['Class 0', 'Class 1'])\n",
    "plt.xlabel('Predicted Labels')\n",
    "plt.ylabel('True Labels')\n",
    "plt.title('Confusion Matrix')\n",
    "plt.show()"
   ]
  },
  {
   "cell_type": "code",
   "execution_count": 63,
   "id": "9701757a-df97-4dd0-a728-6ee39c73309f",
   "metadata": {},
   "outputs": [
    {
     "name": "stdout",
     "output_type": "stream",
     "text": [
      "Accuracy: 0.7413\n",
      "Precision: 0.6727\n",
      "Recall: 0.6607\n",
      "F1 Score: 0.6667\n",
      "ROC-AUC Score: 0.8136\n"
     ]
    }
   ],
   "source": [
    "y_prob = model.predict_proba(X_test)[:, 1]\n",
    "accuracy = accuracy_score(y_test, y_predictions)\n",
    "precision = precision_score(y_test, y_predictions)\n",
    "recall = recall_score(y_test, y_predictions)\n",
    "f1 = f1_score(y_test, y_predictions)\n",
    "roc_auc = roc_auc_score(y_test, y_prob)\n",
    "\n",
    "print(f'Accuracy: {accuracy:.4f}')\n",
    "print(f'Precision: {precision:.4f}')\n",
    "print(f'Recall: {recall:.4f}')\n",
    "print(f'F1 Score: {f1:.4f}')\n",
    "print(f'ROC-AUC Score: {roc_auc:.4f}')"
   ]
  },
  {
   "cell_type": "markdown",
   "id": "555e0995-b493-4ad0-b62c-0b20b03f9932",
   "metadata": {},
   "source": [
    "# Balancing Training Data with SMOTE"
   ]
  },
  {
   "cell_type": "code",
   "execution_count": 64,
   "id": "a18b113e-cec3-4bdd-b728-94b9069b972d",
   "metadata": {},
   "outputs": [],
   "source": [
    "smote = SMOTE()  \n",
    "X_train, y_train = smote.fit_resample(X_train, y_train)"
   ]
  },
  {
   "cell_type": "markdown",
   "id": "963e6e26-8ee7-4d90-8bd0-9e5104081c84",
   "metadata": {},
   "source": [
    "The code initializes SMOTE to balance the training data."
   ]
  },
  {
   "cell_type": "code",
   "execution_count": 77,
   "id": "681f0e67-c6ab-4c4b-bb85-b97246dc92ef",
   "metadata": {},
   "outputs": [
    {
     "name": "stderr",
     "output_type": "stream",
     "text": [
      "C:\\Users\\Admin\\AppData\\Local\\Temp\\ipykernel_8592\\2491486511.py:3: FutureWarning: Series.ravel is deprecated. The underlying array is already 1D, so ravel is not necessary.  Use `to_numpy()` for conversion to a numpy array instead.\n",
      "  y_train = y_train.ravel()\n"
     ]
    }
   ],
   "source": [
    "model = logistic_regression(X_train, y_train)"
   ]
  },
  {
   "cell_type": "code",
   "execution_count": 78,
   "id": "3a300376-ed6b-4ac0-a5f1-71cac8410b0a",
   "metadata": {},
   "outputs": [],
   "source": [
    "y_predictions = model.predict(X_test)"
   ]
  },
  {
   "cell_type": "code",
   "execution_count": 79,
   "id": "a8bfb09e-448f-41df-a085-5c7f70d9365d",
   "metadata": {
    "scrolled": true
   },
   "outputs": [
    {
     "name": "stdout",
     "output_type": "stream",
     "text": [
      "              precision    recall  f1-score   support\n",
      "\n",
      "           0       0.82      0.76      0.79        87\n",
      "           1       0.67      0.75      0.71        56\n",
      "\n",
      "    accuracy                           0.76       143\n",
      "   macro avg       0.75      0.75      0.75       143\n",
      "weighted avg       0.76      0.76      0.76       143\n",
      "\n"
     ]
    }
   ],
   "source": [
    "print(classification_report(y_test,y_predictions))"
   ]
  },
  {
   "cell_type": "code",
   "execution_count": 80,
   "id": "449179fb-2ed1-4c1f-be16-ffe04f8a4583",
   "metadata": {},
   "outputs": [
    {
     "data": {
      "text/plain": [
       "array([[66, 21],\n",
       "       [14, 42]], dtype=int64)"
      ]
     },
     "execution_count": 80,
     "metadata": {},
     "output_type": "execute_result"
    }
   ],
   "source": [
    "cm = confusion_matrix(y_test,y_predictions)\n",
    "cm"
   ]
  },
  {
   "cell_type": "code",
   "execution_count": 81,
   "id": "7ce0c63a-8764-4563-9f4a-58cf929cf0cb",
   "metadata": {},
   "outputs": [
    {
     "data": {
      "image/png": "[encoded data removed]",
      "text/plain": [
       "<Figure size 800x600 with 2 Axes>"
      ]
     },
     "metadata": {},
     "output_type": "display_data"
    }
   ],
   "source": [
    "plt.figure(figsize=(8, 6))\n",
    "sns.heatmap(cm, annot=True, fmt='d', cmap='Blues', \n",
    "            xticklabels=['Class 0', 'Class 1'], \n",
    "            yticklabels=['Class 0', 'Class 1'])\n",
    "plt.xlabel('Predicted Labels')\n",
    "plt.ylabel('True Labels')\n",
    "plt.title('Confusion Matrix')\n",
    "plt.show()"
   ]
  },
  {
   "cell_type": "code",
   "execution_count": 70,
   "id": "a2282e32-edbd-4d60-a434-246c3956b954",
   "metadata": {},
   "outputs": [
    {
     "name": "stdout",
     "output_type": "stream",
     "text": [
      "Accuracy: 0.7552\n",
      "Precision: 0.6667\n",
      "Recall: 0.7500\n",
      "F1 Score: 0.7059\n",
      "ROC-AUC Score: 0.8116\n"
     ]
    }
   ],
   "source": [
    "y_prob = model.predict_proba(X_test)[:, 1]\n",
    "accuracy = accuracy_score(y_test, y_predictions)\n",
    "precision = precision_score(y_test, y_predictions)\n",
    "recall = recall_score(y_test, y_predictions)\n",
    "f1 = f1_score(y_test, y_predictions)\n",
    "roc_auc = roc_auc_score(y_test, y_prob)\n",
    "\n",
    "print(f'Accuracy: {accuracy:.4f}')\n",
    "print(f'Precision: {precision:.4f}')\n",
    "print(f'Recall: {recall:.4f}')\n",
    "print(f'F1 Score: {f1:.4f}')\n",
    "print(f'ROC-AUC Score: {roc_auc:.4f}')"
   ]
  },
  {
   "cell_type": "markdown",
   "id": "270b71ab-ebd7-4c31-8bfc-43756c3d1c2e",
   "metadata": {},
   "source": [
    "# Adjust the Threshold of the Predictions"
   ]
  },
  {
   "cell_type": "code",
   "execution_count": 71,
   "id": "cfbd9569-09c1-443f-9cd1-e3d3ba041cc7",
   "metadata": {},
   "outputs": [],
   "source": [
    "y_prob = model.predict_proba(X_test)[:, 1]"
   ]
  },
  {
   "cell_type": "code",
   "execution_count": 72,
   "id": "0b2609dd-4e2d-49df-8f9e-f206a8ea5df8",
   "metadata": {},
   "outputs": [
    {
     "data": {
      "text/plain": [
       "array([0.18810156, 0.60040464, 0.84800826, 0.9787275 , 0.0577972 ,\n",
       "       0.53302471, 0.56296105, 0.62720648, 0.62461388, 0.67919467,\n",
       "       0.97160215, 0.83188664, 0.56917013, 0.07227397, 0.92150326,\n",
       "       0.36743906, 0.23622532, 0.98575375, 0.32306782, 0.91700548,\n",
       "       0.73375043, 0.66980563, 0.88751289, 0.47085505, 0.14366432,\n",
       "       0.17618648, 0.18300654, 0.11934418, 0.86135339, 0.07214755,\n",
       "       0.69902458, 0.79796616, 0.52399827, 0.08258472, 0.07557171,\n",
       "       0.52619533, 0.24946046, 0.44314853, 0.24571171, 0.03997908,\n",
       "       0.23512179, 0.15642777, 0.92402639, 0.11481977, 0.31544061,\n",
       "       0.85185887, 0.81257778, 0.68900753, 0.4881052 , 0.93872506,\n",
       "       0.49923505, 0.87915892, 0.61744788, 0.10921477, 0.12719998,\n",
       "       0.59874643, 0.60870512, 0.28673476, 0.12194652, 0.0816369 ,\n",
       "       0.83421386, 0.09453869, 0.72075321, 0.17618648, 0.413718  ,\n",
       "       0.39364534, 0.2650312 , 0.96427452, 0.0984098 , 0.56960255,\n",
       "       0.17618648, 0.87839103, 0.17992352, 0.26438724, 0.05276805,\n",
       "       0.15642777, 0.413718  , 0.16956783, 0.51982239, 0.75457573,\n",
       "       0.78294878, 0.57148216, 0.4818223 , 0.16212069, 0.12719998,\n",
       "       0.70945183, 0.79887724, 0.04824021, 0.16289112, 0.36265658,\n",
       "       0.41640626, 0.94563798, 0.67644835, 0.10729619, 0.81515042,\n",
       "       0.64692193, 0.97817048, 0.60486355, 0.29229874, 0.40232367,\n",
       "       0.85714458, 0.90032615, 0.18082924, 0.8438602 , 0.94779736,\n",
       "       0.2512311 , 0.15642777, 0.49948633, 0.05513038, 0.76216126,\n",
       "       0.10312788, 0.15017488, 0.23140949, 0.33573829, 0.17646053,\n",
       "       0.59950087, 0.09293665, 0.86202805, 0.10711558, 0.05759203,\n",
       "       0.98357678, 0.20998237, 0.12511978, 0.15642777, 0.95119227,\n",
       "       0.12194652, 0.14993422, 0.95164996, 0.10729619, 0.95000342,\n",
       "       0.12719998, 0.11199901, 0.20771075, 0.81881813, 0.30064102,\n",
       "       0.14412923, 0.08987587, 0.66781705, 0.22426186, 0.303638  ,\n",
       "       0.08258472, 0.89422915, 0.97053861])"
      ]
     },
     "execution_count": 72,
     "metadata": {},
     "output_type": "execute_result"
    }
   ],
   "source": [
    "y_prob"
   ]
  },
  {
   "cell_type": "code",
   "execution_count": 73,
   "id": "eade80fa-9629-4332-b8b9-673635ad812b",
   "metadata": {},
   "outputs": [],
   "source": [
    "y_predictions = (y_prob >= 0.55).astype(int)"
   ]
  },
  {
   "cell_type": "code",
   "execution_count": 74,
   "id": "459ab5bc-58a0-4360-bf50-ce515c4976e2",
   "metadata": {},
   "outputs": [],
   "source": [
    "with open('titanic_model.pkl', 'wb') as model_file:\n",
    "    pickle.dump(model, model_file)"
   ]
  },
  {
   "cell_type": "markdown",
   "id": "0a6c2fa7-e26a-47eb-8ff9-f9ae328cc9e1",
   "metadata": {},
   "source": [
    "# What is the difference between precision and recall?\n",
    "**Precision** and **Recall** are two key metrics used to evaluate the performance of classification models, particularly in situations with imbalanced classes.\n",
    "\n",
    "### Precision\n",
    "\n",
    "- **Definition**: Precision measures the proportion of true positive predictions out of all positive predictions made by the model.\n",
    "  \n",
    "- **Formula**:\n",
    "  \\[\n",
    "  \\text{Precision} = \\frac{\\text{True Positives}}{\\text{True Positives} + \\text{False Positives}}\n",
    "  \\]\n",
    "\n",
    "- **Interpretation**: High precision indicates that when the model predicts a positive class, it is usually correct. It is particularly important in scenarios where false positives carry significant costs or consequences (e.g., medical diagnoses where incorrect positive predictions might lead to unnecessary treatments).\n",
    "\n",
    "### Recall (Sensitivity or True Positive Rate)\n",
    "\n",
    "- **Definition**: Recall measures the proportion of true positive predictions out of all actual positive instances in the dataset.\n",
    "  \n",
    "- **Formula**:\n",
    "  \\[\n",
    "  \\text{Recall} = \\frac{\\text{True Positives}}{\\text{True Positives} + \\text{False Negatives}}\n",
    "  \\]\n",
    "\n",
    "- **Interpretation**: High recall means that the model successfully identifies most of the actual positive instances. It is crucial in situations where missing a positive case (false negatives) has serious consequences (e.g., detecting diseases where missing a true case can be critical).\n",
    "\n",
    "### Key Differences\n",
    "\n",
    "- **Focus**: Precision focuses on the accuracy of positive predictions (how many of the predicted positives are actually positive), whereas recall focuses on the model's ability to identify all relevant instances (how many of the actual positives are correctly identified).\n",
    "\n",
    "- **Trade-off**: Precision and recall often have a trade-off. Improving precision typically reduces recall and vice versa. This is known as the precision-recall trade-off. For example, increasing the threshold for classifying a positive might increase precision but decrease recall.\n",
    "\n",
    "- **Usage**:\n",
    "  - **Precision** is more useful when the cost of false positives is high.\n",
    "  - **Recall** is more critical when the cost of false negatives is high.\n",
    "\n",
    "### Example\n",
    "\n",
    "Consider a model for detecting a rare disease:\n",
    "- **Precision**: Out of all the people the model predicts as having the disease, how many actually have it?\n",
    "- **Recall**: Out of all the people who actually have the disease, how many does the model correctly identify?\n"
   ]
  },
  {
   "cell_type": "markdown",
   "id": "6c08c4f2-fabe-45c4-a058-7c08b6d6a8ce",
   "metadata": {},
   "source": [
    "# What is cross-validation, and why is it important in binary classification?\n",
    "**Cross-validation** is a technique used to assess the performance and generalizability of a machine learning model. It helps to ensure that the model performs well on unseen data and is not overly fitted to the training data. \n",
    "\n",
    "### What is Cross-Validation?\n",
    "\n",
    "**Cross-validation** involves partitioning the dataset into multiple subsets or \"folds.\" The model is trained on some of these folds (training set) and evaluated on the remaining folds (validation set). This process is repeated several times, with different folds used as the validation set in each iteration. The results are then averaged to provide a more robust estimate of the model's performance.\n",
    "\n",
    "### Common Types of Cross-Validation\n",
    "\n",
    "1. **K-Fold Cross-Validation**:\n",
    "   - The dataset is split into \\( K \\) equal-sized folds.\n",
    "   - The model is trained \\( K \\) times, each time using \\( K-1 \\) folds for training and the remaining fold for validation.\n",
    "   - The performance metrics are averaged over all \\( K \\) iterations.\n",
    "\n",
    "2. **Leave-One-Out Cross-Validation (LOOCV)**:\n",
    "   - A special case of \\( K \\)-fold where \\( K \\) is set to the number of data points.\n",
    "   - Each training set consists of all but one data point, and the validation set consists of the remaining single data point.\n",
    "   - This is computationally expensive but can be very accurate for small datasets.\n",
    "\n",
    "3. **Stratified K-Fold Cross-Validation**:\n",
    "   - Similar to \\( K \\)-fold, but ensures that each fold maintains the same proportion of classes as the original dataset.\n",
    "   - Particularly useful for imbalanced datasets.\n",
    "\n",
    "4. **Hold-Out Validation**:\n",
    "   - The dataset is split into a single training set and a single test set.\n",
    "   - While simpler, it is less robust compared to \\( K \\)-fold cross-validation, as it only uses one split.\n",
    "\n",
    "### Importance in Binary Classification\n",
    "\n",
    "1. **Assess Model Performance**:\n",
    "   - Provides a more reliable estimate of model performance by evaluating it on multiple train-validation splits.\n",
    "   - Helps to understand how well the model generalizes to unseen data, reducing the risk of overfitting.\n",
    "\n",
    "2. **Mitigate Data Imbalance**:\n",
    "   - In binary classification with imbalanced classes, stratified cross-validation ensures that each fold has a representative proportion of each class, giving a more accurate evaluation of model performance.\n",
    "\n",
    "3. **Reduce Variability**:\n",
    "   - By averaging performance over multiple folds, cross-validation reduces the variability that can arise from a single random train-test split, leading to a more stable and robust performance metric.\n",
    "\n",
    "4. **Hyperparameter Tuning**:\n",
    "   - Cross-validation is often used in conjunction with grid search or random search to tune hyperparameters. It ensures that the selected hyperparameters perform well across multiple data splits.\n",
    "\n",
    "5. **Model Comparison**:\n",
    "   - Cross-validation allows for fair comparison between different models or algorithms, as each model is evaluated in the same manner across multiple folds.\n",
    "\n",
    "### Example of Cross-Validation\n",
    "\n",
    "For a binary classification problem, say you want to evaluate a logistic regression model:\n",
    "- **Step 1**: Split the dataset into \\( K \\) folds.\n",
    "- **Step 2**: For each fold, train the model on \\( K-1 \\) folds and validate it on the remaining fold.\n",
    "- **Step 3**: Calculate performance metrics (e.g., accuracy, precision, recall) for each fold.\n",
    "- **Step 4**: Average the metrics to get a final estimate of model performance.\n",
    "\n",
    "Overall, cross-validation is a crucial technique for ensuring that machine learning models, including binary classifiers, are robust, reliable, and generalizable to new, unseen data."
   ]
  },
  {
   "cell_type": "code",
   "execution_count": null,
   "id": "df211d9a-d3eb-4797-b644-b4483c178414",
   "metadata": {},
   "outputs": [],
   "source": []
  },
  {
   "cell_type": "code",
   "execution_count": null,
   "id": "01028e0d-8b44-4dc9-a99f-c5a71be71569",
   "metadata": {},
   "outputs": [],
   "source": []
  }
 ],
 "metadata": {
  "kernelspec": {
   "display_name": "Python 3 (ipykernel)",
   "language": "python",
   "name": "python3"
  },
  "language_info": {
   "codemirror_mode": {
    "name": "ipython",
    "version": 3
   },
   "file_extension": ".py",
   "mimetype": "text/x-python",
   "name": "python",
   "nbconvert_exporter": "python",
   "pygments_lexer": "ipython3",
   "version": "3.12.4"
  }
 },
 "nbformat": 4,
 "nbformat_minor": 5
}
