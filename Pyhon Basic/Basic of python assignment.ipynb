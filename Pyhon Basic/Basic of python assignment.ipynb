{
 "cells": [
  {
   "cell_type": "markdown",
   "id": "1e328db3-4e95-4a2b-8b34-2e70a29976a0",
   "metadata": {},
   "source": [
    "# Exercise 1: Prime Numbers "
   ]
  },
  {
   "cell_type": "code",
   "execution_count": 12,
   "id": "5a7cfe5e-cf95-40cc-a297-b9dc88aaec79",
   "metadata": {},
   "outputs": [
    {
     "name": "stdin",
     "output_type": "stream",
     "text": [
      "Enter any Number 3\n"
     ]
    },
    {
     "name": "stdout",
     "output_type": "stream",
     "text": [
      "3  is a prime number\n"
     ]
    }
   ],
   "source": [
    "def check_prime_number():\n",
    "    num =input(\"Enter any Number\") # take a input from user\n",
    "    try:\n",
    "        num = int(num)\n",
    "    except: # to handle unaccepted user input\n",
    "        return 'Invalid Input'\n",
    "    if num==0 or num==1:\n",
    "        print(num,  \"is not-prime number\")\n",
    "    elif num ==2:\n",
    "        print(num,  \" is a prime number \")\n",
    "    elif num>2:  # to print the prime numbers \n",
    "        for i in range(2,num):\n",
    "            if num%i ==0:\n",
    "                return f\"{num}  the given number is not prime number\"\n",
    "            else:\n",
    "                return f\"{num}  is a prime number\"\n",
    "print(check_prime_number()) # calling the function\n",
    "            "
   ]
  },
  {
   "cell_type": "markdown",
   "id": "f1ff060d-a4b5-4645-8b3a-809d0f21ebd1",
   "metadata": {},
   "source": [
    "# Exercise 2: Product of Random Numbers"
   ]
  },
  {
   "cell_type": "code",
   "execution_count": 2,
   "id": "c09d8db2-8e67-4415-9a8a-d56b0c9db49d",
   "metadata": {},
   "outputs": [],
   "source": [
    "import numpy as np  # importing numpy package\n",
    "def rand_number():\n",
    "    num1,num2 =np.random.randint(100),np.random.randint(100) #define two random variables\n",
    "    product = num1*num2 # prouduct of two number\n",
    "    return num1,num2,product\n",
    "     "
   ]
  },
  {
   "cell_type": "code",
   "execution_count": 3,
   "id": "549411ee-8d27-4e17-a867-d15491d06b53",
   "metadata": {},
   "outputs": [],
   "source": [
    "def review():\n",
    "    num1,num2,product = rand_number() # assignn the three variables to the function \n",
    "    print(product)\n",
    "    print(\" the product of\",num1 ,\"and\",num2)\n",
    "    # here we make the use of try and except to handle exception\n",
    "    try:\n",
    "        user_input = int(input(\"Write Your answer\"))\n",
    "        if product == user_input:\n",
    "            return f\" your answer is right\"\n",
    "        else:\n",
    "            \n",
    "            return f\" your answer is wrong\"\n",
    "    except:\n",
    "        return \"Invalid input\""
   ]
  },
  {
   "cell_type": "code",
   "execution_count": 4,
   "id": "a85c4460-734a-4f55-92ee-03341fbf64cf",
   "metadata": {},
   "outputs": [
    {
     "name": "stdout",
     "output_type": "stream",
     "text": [
      "1484\n",
      " the product of 28 and 53\n"
     ]
    },
    {
     "name": "stdin",
     "output_type": "stream",
     "text": [
      "Write Your answer 12\n"
     ]
    },
    {
     "data": {
      "text/plain": [
       "' your answer is wrong'"
      ]
     },
     "execution_count": 4,
     "metadata": {},
     "output_type": "execute_result"
    }
   ],
   "source": [
    "review() # calling the function\n"
   ]
  },
  {
   "cell_type": "markdown",
   "id": "427d851c-a5b0-487f-a159-b50c4b834b2b",
   "metadata": {},
   "source": [
    "# Exercise 3: Squares of Even/Odd Numbers"
   ]
  },
  {
   "cell_type": "code",
   "execution_count": 9,
   "id": "050e4342-f287-41ae-9067-20ddb8c9b72d",
   "metadata": {},
   "outputs": [],
   "source": [
    "def even_number(): # define a function for even numbers\n",
    "    for i in range(100,201): \n",
    "        if i%2 ==0:\n",
    "            print(\"the square of number  \",i,    \"is\"     ,i*i)\n",
    "\n",
    "\n",
    "def odd_number():# define the function for odd numbers\n",
    "    for i in range(100,200): # \n",
    "        if i%2!=0:\n",
    "            print(\"the square of  number\",i, \"is\"  ,i*i)\n",
    "\n",
    "#To check the squares of odd and even number from 100 to 200 \n",
    "# call the function even_number() or odd_number()\n",
    "even_number()\n",
    "\n",
    "\n",
    "\n",
    "            "
   ]
  },
  {
   "cell_type": "markdown",
   "id": "7e9a568d-149e-4cd2-9b3e-402ec9c2cae4",
   "metadata": {},
   "source": [
    "# Exercise 4: Word counter"
   ]
  },
  {
   "cell_type": "code",
   "execution_count": 6,
   "id": "190acf8b-64aa-4639-b0b7-fca1568de54e",
   "metadata": {},
   "outputs": [
    {
     "name": "stdout",
     "output_type": "stream",
     "text": [
      "This 2\n",
      "is 1\n",
      "a 1\n",
      "sample 1\n",
      "text 2\n",
      "This 2\n",
      "text 2\n",
      "will 1\n",
      "be 1\n",
      "used 1\n",
      "to 1\n",
      "demonstrate 1\n",
      "the 1\n",
      "word 1\n",
      "counter 1\n"
     ]
    }
   ],
   "source": [
    "input_text = \"This is a sample text. This text will be used to demonstrate the word counter.\"\n",
    "input_text = input_text.replace(\".\",\"\") # this will replace the '.' with space\n",
    "input_split =input_text.split(\" \") # it splits the entire sentences\n",
    "list =[] # create an empty list\n",
    "for i in input_split:\n",
    "    print(i,input_split.count(i) )\n",
    "    list.append(i)# append every word inside the list"
   ]
  },
  {
   "cell_type": "markdown",
   "id": "58a1fc38-be9b-4272-bb0c-108916e35581",
   "metadata": {},
   "source": [
    "# Exercise 5: Check for Palindrome"
   ]
  },
  {
   "cell_type": "code",
   "execution_count": 7,
   "id": "598c9817-2ff8-4e53-8c6c-27da196e9651",
   "metadata": {},
   "outputs": [
    {
     "name": "stdin",
     "output_type": "stream",
     "text": [
      "Enter any word =  mom\n"
     ]
    },
    {
     "name": "stdout",
     "output_type": "stream",
     "text": [
      "mom = mom\n",
      "True\n"
     ]
    }
   ],
   "source": [
    "input_text = input(\"Enter any word = \")\n",
    "text = ''\n",
    "for i in input_text : \n",
    "    text = i + text\n",
    "if text == input_text: \n",
    "    print(f'{input_text} = {text}')\n",
    "    print('True')\n",
    "else : \n",
    "    print(f'{input_text} != {text}')\n",
    "    print('False')"
   ]
  },
  {
   "cell_type": "code",
   "execution_count": null,
   "id": "0d76b681-daeb-41e7-aee8-b672db2c8de8",
   "metadata": {},
   "outputs": [],
   "source": []
  }
 ],
 "metadata": {
  "kernelspec": {
   "display_name": "Python 3 (ipykernel)",
   "language": "python",
   "name": "python3"
  },
  "language_info": {
   "codemirror_mode": {
    "name": "ipython",
    "version": 3
   },
   "file_extension": ".py",
   "mimetype": "text/x-python",
   "name": "python",
   "nbconvert_exporter": "python",
   "pygments_lexer": "ipython3",
   "version": "3.12.4"
  }
 },
 "nbformat": 4,
 "nbformat_minor": 5
}
